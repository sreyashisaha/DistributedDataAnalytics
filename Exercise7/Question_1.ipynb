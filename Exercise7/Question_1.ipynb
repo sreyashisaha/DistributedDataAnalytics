{
 "cells": [
  {
   "cell_type": "code",
   "execution_count": 1,
   "id": "b317f2c9",
   "metadata": {},
   "outputs": [],
   "source": [
    "import torch\n",
    "import torch.nn as nn\n",
    "import torchvision.transforms as transforms\n",
    "import torchvision.datasets as datasets\n",
    "import torch.nn.functional as F\n",
    "import matplotlib.pyplot as plt\n",
    "from datetime import datetime \n",
    "import gc\n",
    "import numpy as np"
   ]
  },
  {
   "cell_type": "code",
   "execution_count": 2,
   "id": "77c125fa",
   "metadata": {},
   "outputs": [],
   "source": [
    "import torch\n",
    "import tensorboard\n",
    "from torch.utils.tensorboard import SummaryWriter\n",
    "writer = SummaryWriter()"
   ]
  },
  {
   "cell_type": "code",
   "execution_count": 3,
   "id": "e3af279f",
   "metadata": {},
   "outputs": [
    {
     "data": {
      "text/plain": [
       "'cpu'"
      ]
     },
     "execution_count": 3,
     "metadata": {},
     "output_type": "execute_result"
    }
   ],
   "source": [
    "device = 'cuda' if torch.cuda.is_available() else 'cpu'\n",
    "device"
   ]
  },
  {
   "cell_type": "code",
   "execution_count": 4,
   "id": "cfe76075",
   "metadata": {},
   "outputs": [],
   "source": [
    "# Here we set up some parameters which will be used later in the code\n",
    "# parameters\n",
    "RANDOM_SEED = 12\n",
    "# LEARNING_RATE = 0.001\n",
    "# BATCH_SIZE = 32\n",
    "# N_EPOCHS = 15\n",
    "\n",
    "# IMG_SIZE = 32\n",
    "# N_CLASSES = 10"
   ]
  },
  {
   "cell_type": "code",
   "execution_count": 5,
   "id": "6b8b889c",
   "metadata": {},
   "outputs": [
    {
     "name": "stdout",
     "output_type": "stream",
     "text": [
      "Files already downloaded and verified\n",
      "Files already downloaded and verified\n"
     ]
    }
   ],
   "source": [
    "# convert data to a normalized torch.FloatTensor\n",
    "# transform = transforms.Compose([transforms.ToTensor()])\n",
    "train_transform = transforms.Compose([\n",
    "    transforms.RandomHorizontalFlip(p=0.5),\n",
    "    transforms.RandomCrop(32, padding=4),\n",
    "    transforms.ToTensor(),\n",
    "    transforms.Normalize([0, 0, 0], [1, 1, 1])\n",
    "])\n",
    "\n",
    "test_transform = transforms.Compose([\n",
    "    transforms.ToTensor(),\n",
    "])\n",
    "\n",
    "# declaring the training and test datasets\n",
    "train_data = datasets.CIFAR10('data', train=True,download=True,transform = train_transform)\n",
    "test_data = datasets.CIFAR10('data', train=False,download=True,transform = test_transform)"
   ]
  },
  {
   "cell_type": "code",
   "execution_count": 6,
   "id": "d2786b16",
   "metadata": {},
   "outputs": [],
   "source": [
    "set1 = list(range(0,len(train_data),2))\n",
    "set2 = list(range(1,len(train_data),2))\n",
    "train_1 = torch.utils.data.Subset(train_data,set1)\n",
    "train_2 = torch.utils.data.Subset(train_data,set2)"
   ]
  },
  {
   "cell_type": "code",
   "execution_count": 7,
   "id": "3e22158e",
   "metadata": {},
   "outputs": [],
   "source": [
    "train_dataloader1 = torch.utils.data.DataLoader(train_1, batch_size=10, shuffle=True, num_workers=2)\n",
    "train_dataloader2 = torch.utils.data.DataLoader(train_2, batch_size=10, shuffle=True, num_workers=2)\n",
    "test_dataloader = torch.utils.data.DataLoader(test_data, batch_size=10, shuffle=True, num_workers=2)"
   ]
  },
  {
   "cell_type": "code",
   "execution_count": 8,
   "id": "79df9bc8",
   "metadata": {},
   "outputs": [],
   "source": [
    "class LeNet5(nn.Module):\n",
    "\n",
    "    def __init__(self, n_classes):\n",
    "        super(LeNet5, self).__init__()\n",
    "        \n",
    "        self.feature_extractor = nn.Sequential(            \n",
    "            nn.Conv2d(in_channels=3, out_channels=6, kernel_size=5, stride=1),\n",
    "            nn.ReLU(),\n",
    "            nn.MaxPool2d(kernel_size=2,stride=2),\n",
    "            nn.Conv2d(in_channels=6, out_channels=16, kernel_size=5, stride=1),\n",
    "            nn.ReLU(),\n",
    "            nn.Conv2d(in_channels=16, out_channels=120, kernel_size=5, stride=1),\n",
    "            nn.ReLU(),\n",
    "            nn.MaxPool2d(kernel_size=6,stride=1)\n",
    "        )\n",
    "\n",
    "        self.classifier = nn.Sequential(\n",
    "            nn.Linear(in_features=120, out_features=84),\n",
    "            nn.ReLU(),\n",
    "            nn.Linear(in_features=84, out_features=42),\n",
    "            nn.ReLU(),\n",
    "            nn.Linear(in_features=42, out_features=n_classes),\n",
    "        )\n",
    "\n",
    "\n",
    "    def forward(self, x):\n",
    "        x = self.feature_extractor(x)\n",
    "        x = torch.flatten(x, 1)\n",
    "        logits = self.classifier(x)\n",
    "        probs = F.softmax(logits, dim=1)\n",
    "        return logits, probs"
   ]
  },
  {
   "cell_type": "code",
   "execution_count": 9,
   "id": "275c9b21",
   "metadata": {},
   "outputs": [],
   "source": [
    "def train(train_loader, model, criterion, optimizer, device):\n",
    "\n",
    "    model.train()\n",
    "    running_loss = 0\n",
    "    \n",
    "    for X, y_true in train_loader:\n",
    "\n",
    "        optimizer.zero_grad()\n",
    "        \n",
    "        X = X.to(device)\n",
    "        y_true = y_true.to(device)\n",
    "    \n",
    "        # Forward pass\n",
    "        y_hat, _ = model(X) \n",
    "        loss = criterion(y_hat, y_true) \n",
    "        running_loss += loss.item() * X.size(0)\n",
    "\n",
    "        # Backward pass\n",
    "        loss.backward()\n",
    "        optimizer.step()\n",
    "        \n",
    "    Loss = running_loss / len(train_loader.dataset)\n",
    "    return model, optimizer, Loss"
   ]
  },
  {
   "cell_type": "code",
   "execution_count": 10,
   "id": "62a21b84",
   "metadata": {},
   "outputs": [],
   "source": [
    "def test(test_loader, model, criterion, device):\n",
    "    model.eval()\n",
    "    running_loss = 0\n",
    "    \n",
    "    for X, y_true in test_loader:\n",
    "    \n",
    "        X = X.to(device)\n",
    "        y_true = y_true.to(device)\n",
    "\n",
    "        # Forward pass and record loss\n",
    "        y_hat, _ = model(X) \n",
    "        loss = criterion(y_hat, y_true) \n",
    "        running_loss += loss.item() * X.size(0)\n",
    "\n",
    "    Loss = running_loss / len(test_loader.dataset)\n",
    "        \n",
    "    return model, Loss"
   ]
  },
  {
   "cell_type": "code",
   "execution_count": 11,
   "id": "5ab88b0a",
   "metadata": {},
   "outputs": [],
   "source": [
    "def plot_loss(train_losses, valid_losses):\n",
    "\n",
    "    # change the style of the plots to seaborn \n",
    "    plt.style.use('seaborn')\n",
    "\n",
    "    train_losses = np.array(train_losses) \n",
    "    valid_losses = np.array(valid_losses)\n",
    "\n",
    "    fig, ax = plt.subplots(figsize = (8, 4.5))\n",
    "\n",
    "    ax.plot(train_losses, color='blue', label='Training loss') \n",
    "    ax.plot(valid_losses, color='red', label='Testing loss')\n",
    "    ax.set(title=\"Loss over epochs\", \n",
    "            xlabel='Epoch',\n",
    "            ylabel='Loss') \n",
    "    ax.legend()\n",
    "    fig.show()\n",
    "    \n",
    "    # change the plot style to default\n",
    "    plt.style.use('default')"
   ]
  },
  {
   "cell_type": "code",
   "execution_count": 12,
   "id": "de5475b1",
   "metadata": {},
   "outputs": [],
   "source": [
    "def get_accuracy(model, data_loader, device):\n",
    "    correct_pred = 0 \n",
    "    n = 0\n",
    "    \n",
    "    with torch.no_grad():\n",
    "        model.eval()\n",
    "        for X, y_true in data_loader:\n",
    "\n",
    "            X = X.to(device)\n",
    "            y_true = y_true.to(device)\n",
    "\n",
    "            _, y_prob = model(X)\n",
    "#             print(\"Probabilities\",y_prob)\n",
    "            _, predicted_labels = torch.max(y_prob, 1)\n",
    "\n",
    "            n += y_true.size(0)\n",
    "            correct_pred += (predicted_labels == y_true).sum()\n",
    "\n",
    "    return correct_pred.float() / n"
   ]
  },
  {
   "cell_type": "code",
   "execution_count": 13,
   "id": "8b7af2a1",
   "metadata": {},
   "outputs": [],
   "source": [
    "def evaluation(model, criterion, optimizer, train_loader, test_loader, epochs, device, print_every=1):\n",
    "    \n",
    "    # set objects for storing metrics\n",
    "    train_losses = []\n",
    "    test_losses = []\n",
    " \n",
    "    # Train model\n",
    "    for epoch in range(0, epochs):\n",
    "\n",
    "        # training\n",
    "        model, optimizer, train_loss = train(train_loader, model, criterion, optimizer, device)\n",
    "        writer.add_scalar(\"Loss train\", train_loss, epoch+1)\n",
    "        train_losses.append(train_loss)\n",
    "\n",
    "        # validation\n",
    "        with torch.no_grad():\n",
    "            model, test_loss = test(test_loader, model, criterion, device)\n",
    "            writer.add_scalar(\"Loss test\", test_loss, epoch+1)\n",
    "            test_losses.append(test_loss)\n",
    "\n",
    "        if epoch % print_every == (print_every - 1):\n",
    "            \n",
    "            train_acc = get_accuracy(model, train_loader, device=device)\n",
    "            writer.add_scalar(\"Train Accuracy\", train_acc, epoch+1)\n",
    "            test_acc = get_accuracy(model, test_loader, device=device)\n",
    "            writer.add_scalar(\"Test Accuracy\", test_acc, epoch+1)    \n",
    "            print(f'{datetime.now().time().replace(microsecond=0)} --- '\n",
    "                  f'Epoch: {epoch}\\t'\n",
    "                  f'Train loss: {train_loss:.4f}\\t'\n",
    "                  f'Test loss: {test_loss:.4f}\\t'\n",
    "                  f'Train accuracy: {100 * train_acc:.2f}\\t'\n",
    "                  f'Test accuracy: {100 * test_acc:.2f}')\n",
    "\n",
    "            \n",
    "    plot_loss(train_losses, test_losses)\n",
    "#     train_arr = np.array(train_losses)\n",
    "#     train_tensor = torch.as_tensor(train_arr)\n",
    "#     test_arr = np.array(test_losses)\n",
    "#     test_tensor = torch.as_tensor(test_arr)\n",
    "#     writer.add_scalar(\"Loss train\", train_losses, epochs)\n",
    "#     writer.add_scalar(\"Loss test\", test_losses, epochs)\n",
    "    \n",
    "    return model, optimizer, (train_losses,test_losses)"
   ]
  },
  {
   "cell_type": "code",
   "execution_count": 15,
   "id": "152e728d",
   "metadata": {},
   "outputs": [],
   "source": [
    "\n",
    "model = LeNet5(10).to(device)\n",
    "optimizer = torch.optim.SGD(model.parameters(), lr=0.001)\n",
    "criterion = nn.L1Loss()"
   ]
  },
  {
   "cell_type": "code",
   "execution_count": 15,
   "id": "f1f0b34b",
   "metadata": {},
   "outputs": [
    {
     "name": "stdout",
     "output_type": "stream",
     "text": [
      "14:39:45 --- Epoch: 0\tTrain loss: 2.3070\tTest loss: 2.3070\tTrain accuracy: 10.22\tTest accuracy: 10.00\n",
      "14:40:46 --- Epoch: 1\tTrain loss: 2.3067\tTest loss: 2.3067\tTrain accuracy: 10.22\tTest accuracy: 10.00\n",
      "14:41:44 --- Epoch: 2\tTrain loss: 2.3064\tTest loss: 2.3064\tTrain accuracy: 10.22\tTest accuracy: 10.00\n",
      "14:42:42 --- Epoch: 3\tTrain loss: 2.3061\tTest loss: 2.3061\tTrain accuracy: 10.22\tTest accuracy: 10.00\n",
      "14:43:41 --- Epoch: 4\tTrain loss: 2.3059\tTest loss: 2.3059\tTrain accuracy: 10.22\tTest accuracy: 10.00\n",
      "14:44:39 --- Epoch: 5\tTrain loss: 2.3056\tTest loss: 2.3057\tTrain accuracy: 10.22\tTest accuracy: 10.00\n",
      "14:45:37 --- Epoch: 6\tTrain loss: 2.3054\tTest loss: 2.3055\tTrain accuracy: 10.22\tTest accuracy: 10.00\n",
      "14:46:36 --- Epoch: 7\tTrain loss: 2.3052\tTest loss: 2.3053\tTrain accuracy: 10.22\tTest accuracy: 10.00\n",
      "14:47:34 --- Epoch: 8\tTrain loss: 2.3050\tTest loss: 2.3051\tTrain accuracy: 10.22\tTest accuracy: 10.00\n",
      "14:48:32 --- Epoch: 9\tTrain loss: 2.3048\tTest loss: 2.3049\tTrain accuracy: 10.22\tTest accuracy: 9.99\n",
      "14:49:30 --- Epoch: 10\tTrain loss: 2.3046\tTest loss: 2.3047\tTrain accuracy: 10.23\tTest accuracy: 9.99\n",
      "14:50:28 --- Epoch: 11\tTrain loss: 2.3044\tTest loss: 2.3046\tTrain accuracy: 10.30\tTest accuracy: 10.03\n",
      "14:51:26 --- Epoch: 12\tTrain loss: 2.3043\tTest loss: 2.3044\tTrain accuracy: 10.37\tTest accuracy: 10.25\n",
      "14:52:23 --- Epoch: 13\tTrain loss: 2.3041\tTest loss: 2.3043\tTrain accuracy: 10.60\tTest accuracy: 10.57\n",
      "14:53:21 --- Epoch: 14\tTrain loss: 2.3040\tTest loss: 2.3041\tTrain accuracy: 10.88\tTest accuracy: 11.16\n"
     ]
    },
    {
     "name": "stderr",
     "output_type": "stream",
     "text": [
      "/var/folders/mv/39f6vvvn1kb8pjc2zbvyxr5w0000gn/T/ipykernel_3989/308483355.py:17: UserWarning: Matplotlib is currently using module://matplotlib_inline.backend_inline, which is a non-GUI backend, so cannot show the figure.\n",
      "  fig.show()\n"
     ]
    },
    {
     "data": {
      "image/png": "[encoded data removed]",
      "text/plain": [
       "<Figure size 576x324 with 1 Axes>"
      ]
     },
     "metadata": {
      "needs_background": "light"
     },
     "output_type": "display_data"
    }
   ],
   "source": [
    "model, optimizer, _ = evaluation(model, criterion, optimizer, train_dataloader1, test_dataloader, 15, device)"
   ]
  },
  {
   "cell_type": "code",
   "execution_count": 16,
   "id": "07c2fd67",
   "metadata": {},
   "outputs": [
    {
     "data": {
      "text/plain": [
       "Reusing TensorBoard on port 6007 (pid 2789), started 3:00:48 ago. (Use '!kill 2789' to kill it.)"
      ]
     },
     "metadata": {},
     "output_type": "display_data"
    },
    {
     "data": {
      "text/html": [
       "\n",
       "      <iframe id=\"tensorboard-frame-7bb5f84f29d1e4bc\" width=\"100%\" height=\"800\" frameborder=\"0\">\n",
       "      </iframe>\n",
       "      <script>\n",
       "        (function() {\n",
       "          const frame = document.getElementById(\"tensorboard-frame-7bb5f84f29d1e4bc\");\n",
       "          const url = new URL(\"/\", window.location);\n",
       "          const port = 6007;\n",
       "          if (port) {\n",
       "            url.port = port;\n",
       "          }\n",
       "          frame.src = url;\n",
       "        })();\n",
       "      </script>\n",
       "    "
      ],
      "text/plain": [
       "<IPython.core.display.HTML object>"
      ]
     },
     "metadata": {},
     "output_type": "display_data"
    }
   ],
   "source": [
    "%reload_ext tensorboard\n",
    "%tensorboard --logdir './runs'"
   ]
  },
  {
   "cell_type": "code",
   "execution_count": 14,
   "id": "a1060d1f",
   "metadata": {},
   "outputs": [],
   "source": [
    "model = LeNet5(10).to(device)\n",
    "optimizer = torch.optim.SGD(model.parameters(), lr=0.001)\n",
    "criterion = nn.L1Loss()"
   ]
  },
  {
   "cell_type": "code",
   "execution_count": 15,
   "id": "170608f3",
   "metadata": {
    "scrolled": true
   },
   "outputs": [
    {
     "name": "stdout",
     "output_type": "stream",
     "text": [
      "20:03:41 --- Epoch: 0\tTrain loss: 2.3044\tTest loss: 2.3039\tTrain accuracy: 10.22\tTest accuracy: 10.00\n",
      "20:04:44 --- Epoch: 1\tTrain loss: 2.3032\tTest loss: 2.3030\tTrain accuracy: 10.22\tTest accuracy: 10.00\n",
      "20:05:47 --- Epoch: 2\tTrain loss: 2.3025\tTest loss: 2.3025\tTrain accuracy: 10.22\tTest accuracy: 10.00\n",
      "20:06:50 --- Epoch: 3\tTrain loss: 2.3021\tTest loss: 2.3022\tTrain accuracy: 10.22\tTest accuracy: 10.00\n",
      "20:07:52 --- Epoch: 4\tTrain loss: 2.3018\tTest loss: 2.3019\tTrain accuracy: 10.22\tTest accuracy: 10.00\n",
      "20:08:56 --- Epoch: 5\tTrain loss: 2.3015\tTest loss: 2.3017\tTrain accuracy: 10.22\tTest accuracy: 10.00\n",
      "20:09:58 --- Epoch: 6\tTrain loss: 2.3012\tTest loss: 2.3013\tTrain accuracy: 10.22\tTest accuracy: 10.00\n",
      "20:11:01 --- Epoch: 7\tTrain loss: 2.3008\tTest loss: 2.3009\tTrain accuracy: 10.23\tTest accuracy: 9.99\n",
      "20:12:03 --- Epoch: 8\tTrain loss: 2.3003\tTest loss: 2.3003\tTrain accuracy: 10.24\tTest accuracy: 10.04\n",
      "20:13:06 --- Epoch: 9\tTrain loss: 2.2996\tTest loss: 2.2994\tTrain accuracy: 10.56\tTest accuracy: 10.42\n",
      "20:14:08 --- Epoch: 10\tTrain loss: 2.2984\tTest loss: 2.2980\tTrain accuracy: 11.00\tTest accuracy: 10.69\n",
      "20:15:11 --- Epoch: 11\tTrain loss: 2.2965\tTest loss: 2.2955\tTrain accuracy: 12.82\tTest accuracy: 12.39\n",
      "20:16:14 --- Epoch: 12\tTrain loss: 2.2929\tTest loss: 2.2904\tTrain accuracy: 15.02\tTest accuracy: 14.39\n",
      "20:17:16 --- Epoch: 13\tTrain loss: 2.2842\tTest loss: 2.2766\tTrain accuracy: 17.05\tTest accuracy: 16.98\n",
      "20:18:19 --- Epoch: 14\tTrain loss: 2.2572\tTest loss: 2.2270\tTrain accuracy: 17.35\tTest accuracy: 17.29\n"
     ]
    },
    {
     "name": "stderr",
     "output_type": "stream",
     "text": [
      "/var/folders/mv/39f6vvvn1kb8pjc2zbvyxr5w0000gn/T/ipykernel_2779/308483355.py:17: UserWarning: Matplotlib is currently using module://matplotlib_inline.backend_inline, which is a non-GUI backend, so cannot show the figure.\n",
      "  fig.show()\n"
     ]
    },
    {
     "data": {
      "image/png": "[encoded data removed]",
      "text/plain": [
       "<Figure size 576x324 with 1 Axes>"
      ]
     },
     "metadata": {
      "needs_background": "light"
     },
     "output_type": "display_data"
    }
   ],
   "source": [
    "model, optimizer, _ = evaluation(model, criterion, optimizer, train_dataloader1, test_dataloader, 15, device)"
   ]
  },
  {
   "cell_type": "code",
   "execution_count": 16,
   "id": "985fed55",
   "metadata": {},
   "outputs": [
    {
     "data": {
      "text/html": [
       "\n",
       "      <iframe id=\"tensorboard-frame-4d07219d08abbf11\" width=\"100%\" height=\"800\" frameborder=\"0\">\n",
       "      </iframe>\n",
       "      <script>\n",
       "        (function() {\n",
       "          const frame = document.getElementById(\"tensorboard-frame-4d07219d08abbf11\");\n",
       "          const url = new URL(\"/\", window.location);\n",
       "          const port = 6007;\n",
       "          if (port) {\n",
       "            url.port = port;\n",
       "          }\n",
       "          frame.src = url;\n",
       "        })();\n",
       "      </script>\n",
       "    "
      ],
      "text/plain": [
       "<IPython.core.display.HTML object>"
      ]
     },
     "metadata": {},
     "output_type": "display_data"
    }
   ],
   "source": [
    "%reload_ext tensorboard\n",
    "%tensorboard --logdir './runs'"
   ]
  },
  {
   "cell_type": "code",
   "execution_count": 14,
   "id": "f29c47b4",
   "metadata": {},
   "outputs": [],
   "source": [
    "model = LeNet5(10).to(device)\n",
    "optimizer = torch.optim.SGD(model.parameters(), lr=0.001)\n",
    "criterion = nn.L1Loss()"
   ]
  },
  {
   "cell_type": "code",
   "execution_count": 15,
   "id": "52c21dde",
   "metadata": {},
   "outputs": [
    {
     "name": "stdout",
     "output_type": "stream",
     "text": [
      "21:04:21 --- Epoch: 0\tTrain loss: 2.3055\tTest loss: 2.3044\tTrain accuracy: 9.84\tTest accuracy: 10.00\n",
      "21:05:25 --- Epoch: 1\tTrain loss: 2.3038\tTest loss: 2.3032\tTrain accuracy: 9.84\tTest accuracy: 10.00\n",
      "21:06:29 --- Epoch: 2\tTrain loss: 2.3027\tTest loss: 2.3024\tTrain accuracy: 11.58\tTest accuracy: 11.38\n",
      "21:07:32 --- Epoch: 3\tTrain loss: 2.3020\tTest loss: 2.3018\tTrain accuracy: 12.02\tTest accuracy: 12.44\n",
      "21:08:35 --- Epoch: 4\tTrain loss: 2.3012\tTest loss: 2.3010\tTrain accuracy: 12.19\tTest accuracy: 12.73\n",
      "21:09:38 --- Epoch: 5\tTrain loss: 2.3004\tTest loss: 2.3001\tTrain accuracy: 15.50\tTest accuracy: 15.65\n",
      "21:10:42 --- Epoch: 6\tTrain loss: 2.2994\tTest loss: 2.2988\tTrain accuracy: 16.64\tTest accuracy: 16.47\n",
      "21:11:46 --- Epoch: 7\tTrain loss: 2.2978\tTest loss: 2.2968\tTrain accuracy: 16.21\tTest accuracy: 15.90\n",
      "21:12:49 --- Epoch: 8\tTrain loss: 2.2951\tTest loss: 2.2930\tTrain accuracy: 15.36\tTest accuracy: 15.16\n",
      "21:13:53 --- Epoch: 9\tTrain loss: 2.2895\tTest loss: 2.2847\tTrain accuracy: 15.87\tTest accuracy: 15.64\n",
      "21:14:56 --- Epoch: 10\tTrain loss: 2.2762\tTest loss: 2.2628\tTrain accuracy: 16.18\tTest accuracy: 16.16\n",
      "21:16:00 --- Epoch: 11\tTrain loss: 2.2376\tTest loss: 2.2024\tTrain accuracy: 17.76\tTest accuracy: 17.47\n",
      "21:17:04 --- Epoch: 12\tTrain loss: 2.1773\tTest loss: 2.1538\tTrain accuracy: 19.04\tTest accuracy: 19.41\n",
      "21:18:07 --- Epoch: 13\tTrain loss: 2.1439\tTest loss: 2.1240\tTrain accuracy: 19.45\tTest accuracy: 19.80\n",
      "21:19:11 --- Epoch: 14\tTrain loss: 2.1191\tTest loss: 2.1049\tTrain accuracy: 19.19\tTest accuracy: 19.10\n"
     ]
    },
    {
     "name": "stderr",
     "output_type": "stream",
     "text": [
      "/var/folders/mv/39f6vvvn1kb8pjc2zbvyxr5w0000gn/T/ipykernel_3255/308483355.py:17: UserWarning: Matplotlib is currently using module://matplotlib_inline.backend_inline, which is a non-GUI backend, so cannot show the figure.\n",
      "  fig.show()\n"
     ]
    },
    {
     "data": {
      "image/png": "[encoded data removed]",
      "text/plain": [
       "<Figure size 576x324 with 1 Axes>"
      ]
     },
     "metadata": {
      "needs_background": "light"
     },
     "output_type": "display_data"
    }
   ],
   "source": [
    "model, optimizer, _ = evaluation(model, criterion, optimizer, train_dataloader1, test_dataloader, 15, device)"
   ]
  },
  {
   "cell_type": "code",
   "execution_count": 16,
   "id": "504d3265",
   "metadata": {},
   "outputs": [
    {
     "data": {
      "text/html": [
       "\n",
       "      <iframe id=\"tensorboard-frame-7ac0ad0dbb381415\" width=\"100%\" height=\"800\" frameborder=\"0\">\n",
       "      </iframe>\n",
       "      <script>\n",
       "        (function() {\n",
       "          const frame = document.getElementById(\"tensorboard-frame-7ac0ad0dbb381415\");\n",
       "          const url = new URL(\"/\", window.location);\n",
       "          const port = 6007;\n",
       "          if (port) {\n",
       "            url.port = port;\n",
       "          }\n",
       "          frame.src = url;\n",
       "        })();\n",
       "      </script>\n",
       "    "
      ],
      "text/plain": [
       "<IPython.core.display.HTML object>"
      ]
     },
     "metadata": {},
     "output_type": "display_data"
    }
   ],
   "source": [
    "%reload_ext tensorboard\n",
    "%tensorboard --logdir './runs'"
   ]
  },
  {
   "cell_type": "code",
   "execution_count": null,
   "id": "b79dc727",
   "metadata": {},
   "outputs": [],
   "source": []
  }
 ],
 "metadata": {
  "kernelspec": {
   "display_name": "Python 3 (ipykernel)",
   "language": "python",
   "name": "python3"
  },
  "language_info": {
   "codemirror_mode": {
    "name": "ipython",
    "version": 3
   },
   "file_extension": ".py",
   "mimetype": "text/x-python",
   "name": "python",
   "nbconvert_exporter": "python",
   "pygments_lexer": "ipython3",
   "version": "3.9.13"
  }
 },
 "nbformat": 4,
 "nbformat_minor": 5
}
