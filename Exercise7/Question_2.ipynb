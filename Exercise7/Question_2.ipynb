{
 "cells": [
  {
   "cell_type": "code",
   "execution_count": null,
   "id": "7bbd91ae",
   "metadata": {},
   "outputs": [],
   "source": []
  },
  {
   "cell_type": "code",
   "execution_count": 1,
   "id": "588d7420",
   "metadata": {},
   "outputs": [],
   "source": [
    "import torch\n",
    "import torch.nn as nn\n",
    "import torchvision.transforms as transforms\n",
    "import torchvision.datasets as datasets\n",
    "import torch.nn.functional as F\n",
    "import matplotlib.pyplot as plt\n",
    "from datetime import datetime \n",
    "import gc\n",
    "import numpy as np"
   ]
  },
  {
   "cell_type": "code",
   "execution_count": 2,
   "id": "182834d2",
   "metadata": {},
   "outputs": [],
   "source": [
    "import torch\n",
    "import tensorboard\n",
    "from torch.utils.tensorboard import SummaryWriter\n",
    "writer = SummaryWriter()"
   ]
  },
  {
   "cell_type": "code",
   "execution_count": 3,
   "id": "7f67b299",
   "metadata": {},
   "outputs": [
    {
     "data": {
      "text/plain": [
       "'cpu'"
      ]
     },
     "execution_count": 3,
     "metadata": {},
     "output_type": "execute_result"
    }
   ],
   "source": [
    "device = 'cuda' if torch.cuda.is_available() else 'cpu'\n",
    "device"
   ]
  },
  {
   "cell_type": "code",
   "execution_count": 4,
   "id": "e3f15b20",
   "metadata": {},
   "outputs": [],
   "source": [
    "# Here we set up some parameters which will be used later in the code\n",
    "# parameters\n",
    "RANDOM_SEED = 12\n",
    "# LEARNING_RATE = 0.001\n",
    "# BATCH_SIZE = 32\n",
    "# N_EPOCHS = 15\n",
    "\n",
    "# IMG_SIZE = 32\n",
    "# N_CLASSES = 10"
   ]
  },
  {
   "cell_type": "code",
   "execution_count": 5,
   "id": "7a1cfbe3",
   "metadata": {},
   "outputs": [
    {
     "name": "stdout",
     "output_type": "stream",
     "text": [
      "Files already downloaded and verified\n",
      "Files already downloaded and verified\n"
     ]
    }
   ],
   "source": [
    "# convert data to a normalized torch.FloatTensor\n",
    "# transform = transforms.Compose([transforms.ToTensor()])\n",
    "train_transform = transforms.Compose([\n",
    "    transforms.RandomHorizontalFlip(p=0.5),\n",
    "    transforms.RandomCrop(32, padding=4),\n",
    "    transforms.ToTensor(),\n",
    "    transforms.Normalize([0, 0, 0], [1, 1, 1])\n",
    "])\n",
    "\n",
    "test_transform = transforms.Compose([\n",
    "    transforms.ToTensor(),\n",
    "    transforms.Normalize([0, 0, 0], [1, 1, 1])\n",
    "])\n",
    "\n",
    "# declaring the training and test datasets\n",
    "train_data = datasets.CIFAR10('data', train=True,download=True,transform = train_transform)\n",
    "test_data = datasets.CIFAR10('data', train=False,download=True,transform = test_transform)"
   ]
  },
  {
   "cell_type": "code",
   "execution_count": 6,
   "id": "a2669530",
   "metadata": {},
   "outputs": [],
   "source": [
    "set1 = list(range(0,len(train_data),2))\n",
    "set2 = list(range(1,len(train_data),2))\n",
    "train_1 = torch.utils.data.Subset(train_data,set1)\n",
    "train_2 = torch.utils.data.Subset(train_data,set2)"
   ]
  },
  {
   "cell_type": "code",
   "execution_count": 7,
   "id": "267ef98f",
   "metadata": {},
   "outputs": [],
   "source": [
    "train_dataloader1 = torch.utils.data.DataLoader(train_1, batch_size=100, shuffle=True, num_workers=2)\n",
    "train_dataloader2 = torch.utils.data.DataLoader(train_2, batch_size=100, shuffle=True, num_workers=2)\n",
    "test_dataloader = torch.utils.data.DataLoader(test_data, batch_size=64, shuffle=True, num_workers=2)"
   ]
  },
  {
   "cell_type": "code",
   "execution_count": 8,
   "id": "629ef1e4",
   "metadata": {},
   "outputs": [],
   "source": [
    "class LeNet5(nn.Module):\n",
    "\n",
    "    def __init__(self, n_classes):\n",
    "        super(LeNet5, self).__init__()\n",
    "        \n",
    "        self.feature_extractor = nn.Sequential(            \n",
    "            nn.Conv2d(in_channels=3, out_channels=6, kernel_size=5, stride=1),\n",
    "            nn.ReLU(),\n",
    "            nn.MaxPool2d(kernel_size=2,stride=2),\n",
    "            nn.Conv2d(in_channels=6, out_channels=16, kernel_size=5, stride=1),\n",
    "            nn.ReLU(),\n",
    "            nn.Conv2d(in_channels=16, out_channels=120, kernel_size=5, stride=1),\n",
    "            nn.ReLU(),\n",
    "            nn.MaxPool2d(kernel_size=6,stride=1)\n",
    "        )\n",
    "\n",
    "        self.classifier = nn.Sequential(\n",
    "            nn.Linear(in_features=120, out_features=84),\n",
    "            nn.ReLU(),\n",
    "            nn.Dropout(0.25),\n",
    "            nn.Linear(in_features=84, out_features=42),\n",
    "            nn.ReLU(),\n",
    "            nn.Dropout(0.25),\n",
    "            nn.Linear(in_features=42, out_features=n_classes),\n",
    "            \n",
    "        )\n",
    "\n",
    "\n",
    "    def forward(self, x):\n",
    "        x = self.feature_extractor(x)\n",
    "        x = torch.flatten(x, 1)\n",
    "        logits = self.classifier(x)\n",
    "        probs = F.softmax(logits, dim=1)\n",
    "        return logits, probs"
   ]
  },
  {
   "cell_type": "code",
   "execution_count": 9,
   "id": "0b77f247",
   "metadata": {},
   "outputs": [],
   "source": [
    "def train(train_loader, model, criterion, optimizer, device):\n",
    "\n",
    "    model.train()\n",
    "    running_loss = 0\n",
    "    \n",
    "    for X, y_true in train_loader:\n",
    "\n",
    "        optimizer.zero_grad()\n",
    "        \n",
    "        X = X.to(device)\n",
    "        y_true = y_true.to(device)\n",
    "    \n",
    "        # Forward pass\n",
    "        y_hat, _ = model(X) \n",
    "        loss = criterion(y_hat, y_true) \n",
    "        running_loss += loss.item() * X.size(0)\n",
    "\n",
    "        # Backward pass\n",
    "        loss.backward()\n",
    "        optimizer.step()\n",
    "        \n",
    "    Loss = running_loss / len(train_loader.dataset)\n",
    "    return model, optimizer, Loss"
   ]
  },
  {
   "cell_type": "code",
   "execution_count": 10,
   "id": "e3ade976",
   "metadata": {},
   "outputs": [],
   "source": [
    "def test(test_loader, model, criterion, device):\n",
    "    model.eval()\n",
    "    running_loss = 0\n",
    "    \n",
    "    for X, y_true in test_loader:\n",
    "    \n",
    "        X = X.to(device)\n",
    "        y_true = y_true.to(device)\n",
    "\n",
    "        # Forward pass and record loss\n",
    "        y_hat, _ = model(X) \n",
    "        loss = criterion(y_hat, y_true) \n",
    "        running_loss += loss.item() * X.size(0)\n",
    "\n",
    "    Loss = running_loss / len(test_loader.dataset)\n",
    "        \n",
    "    return model, Loss"
   ]
  },
  {
   "cell_type": "code",
   "execution_count": 11,
   "id": "32290061",
   "metadata": {},
   "outputs": [],
   "source": [
    "def plot_loss(train_losses, valid_losses):\n",
    "\n",
    "    # change the style of the plots to seaborn \n",
    "    plt.style.use('seaborn')\n",
    "\n",
    "    train_losses = np.array(train_losses) \n",
    "    valid_losses = np.array(valid_losses)\n",
    "\n",
    "    fig, ax = plt.subplots(figsize = (8, 4.5))\n",
    "\n",
    "    ax.plot(train_losses, color='blue', label='Training loss') \n",
    "    ax.plot(valid_losses, color='red', label='Testing loss')\n",
    "    ax.set(title=\"Loss over epochs\", \n",
    "            xlabel='Epoch',\n",
    "            ylabel='Loss') \n",
    "    ax.legend()\n",
    "    fig.show()\n",
    "    \n",
    "    # change the plot style to default\n",
    "    plt.style.use('default')"
   ]
  },
  {
   "cell_type": "code",
   "execution_count": 12,
   "id": "57a37d3b",
   "metadata": {},
   "outputs": [],
   "source": [
    "def get_accuracy(model, data_loader, device):\n",
    "    correct_pred = 0 \n",
    "    n = 0\n",
    "    \n",
    "    with torch.no_grad():\n",
    "        model.eval()\n",
    "        for X, y_true in data_loader:\n",
    "\n",
    "            X = X.to(device)\n",
    "            y_true = y_true.to(device)\n",
    "\n",
    "            _, y_prob = model(X)\n",
    "#             print(\"Probabilities\",y_prob)\n",
    "            _, predicted_labels = torch.max(y_prob, 1)\n",
    "\n",
    "            n += y_true.size(0)\n",
    "            correct_pred += (predicted_labels == y_true).sum()\n",
    "\n",
    "    return correct_pred.float() / n"
   ]
  },
  {
   "cell_type": "code",
   "execution_count": 13,
   "id": "1833cb95",
   "metadata": {},
   "outputs": [],
   "source": [
    "def evaluation(model, criterion, optimizer, train_loader, test_loader, epochs, device, print_every=1):\n",
    "    \n",
    "    # set objects for storing metrics\n",
    "    train_losses = []\n",
    "    test_losses = []\n",
    " \n",
    "    # Train model\n",
    "    for epoch in range(0, epochs):\n",
    "\n",
    "        # training\n",
    "        model, optimizer, train_loss = train(train_loader, model, criterion, optimizer, device)\n",
    "        writer.add_scalar(\"Loss train\", train_loss, epoch+1)\n",
    "        train_losses.append(train_loss)\n",
    "\n",
    "        # validation\n",
    "        with torch.no_grad():\n",
    "            model, test_loss = test(test_loader, model, criterion, device)\n",
    "            writer.add_scalar(\"Loss test\", test_loss, epoch+1)\n",
    "            test_losses.append(test_loss)\n",
    "\n",
    "        if epoch % print_every == (print_every - 1):\n",
    "            \n",
    "            train_acc = get_accuracy(model, train_loader, device=device)\n",
    "            writer.add_scalar(\"Train Accuracy\", train_acc, epoch+1)\n",
    "            test_acc = get_accuracy(model, test_loader, device=device)\n",
    "            writer.add_scalar(\"Test Accuracy\", test_acc, epoch+1)    \n",
    "            print(f'{datetime.now().time().replace(microsecond=0)} --- '\n",
    "                  f'Epoch: {epoch}\\t'\n",
    "                  f'Train loss: {train_loss:.4f}\\t'\n",
    "                  f'Test loss: {test_loss:.4f}\\t'\n",
    "                  f'Train accuracy: {100 * train_acc:.2f}\\t'\n",
    "                  f'Test accuracy: {100 * test_acc:.2f}')\n",
    "\n",
    "            \n",
    "    plot_loss(train_losses, test_losses)\n",
    "#     train_arr = np.array(train_losses)\n",
    "#     train_tensor = torch.as_tensor(train_arr)\n",
    "#     test_arr = np.array(test_losses)\n",
    "#     test_tensor = torch.as_tensor(test_arr)\n",
    "#     writer.add_scalar(\"Loss train\", train_losses, epochs)\n",
    "#     writer.add_scalar(\"Loss test\", test_losses, epochs)\n",
    "    \n",
    "    return model, optimizer, (train_losses,test_losses)"
   ]
  },
  {
   "cell_type": "code",
   "execution_count": 14,
   "id": "14f78ea6",
   "metadata": {},
   "outputs": [],
   "source": [
    "\n",
    "model = LeNet5(10).to(device)\n",
    "optimizer = torch.optim.SGD(model.parameters(), lr=0.001)\n",
    "criterion = nn.L1Loss()"
   ]
  },
  {
   "cell_type": "code",
   "execution_count": 15,
   "id": "796ca3d7",
   "metadata": {},
   "outputs": [
    {
     "name": "stdout",
     "output_type": "stream",
     "text": [
      "21:48:28 --- Epoch: 0\tTrain loss: 2.3045\tTest loss: 2.3041\tTrain accuracy: 10.14\tTest accuracy: 10.00\n",
      "21:49:29 --- Epoch: 1\tTrain loss: 2.3043\tTest loss: 2.3040\tTrain accuracy: 10.14\tTest accuracy: 10.00\n",
      "21:50:28 --- Epoch: 2\tTrain loss: 2.3041\tTest loss: 2.3039\tTrain accuracy: 10.14\tTest accuracy: 10.00\n",
      "21:51:28 --- Epoch: 3\tTrain loss: 2.3041\tTest loss: 2.3038\tTrain accuracy: 10.14\tTest accuracy: 10.00\n",
      "21:52:27 --- Epoch: 4\tTrain loss: 2.3039\tTest loss: 2.3037\tTrain accuracy: 10.14\tTest accuracy: 10.00\n",
      "21:53:25 --- Epoch: 5\tTrain loss: 2.3038\tTest loss: 2.3036\tTrain accuracy: 10.14\tTest accuracy: 10.00\n",
      "21:54:24 --- Epoch: 6\tTrain loss: 2.3039\tTest loss: 2.3036\tTrain accuracy: 10.14\tTest accuracy: 10.00\n",
      "21:55:23 --- Epoch: 7\tTrain loss: 2.3038\tTest loss: 2.3035\tTrain accuracy: 10.14\tTest accuracy: 10.00\n",
      "21:56:22 --- Epoch: 8\tTrain loss: 2.3037\tTest loss: 2.3034\tTrain accuracy: 10.14\tTest accuracy: 10.00\n",
      "21:57:21 --- Epoch: 9\tTrain loss: 2.3035\tTest loss: 2.3033\tTrain accuracy: 10.14\tTest accuracy: 10.00\n",
      "21:58:21 --- Epoch: 10\tTrain loss: 2.3033\tTest loss: 2.3033\tTrain accuracy: 10.14\tTest accuracy: 10.00\n",
      "21:59:20 --- Epoch: 11\tTrain loss: 2.3034\tTest loss: 2.3032\tTrain accuracy: 10.14\tTest accuracy: 10.00\n",
      "22:00:19 --- Epoch: 12\tTrain loss: 2.3032\tTest loss: 2.3032\tTrain accuracy: 10.14\tTest accuracy: 10.00\n",
      "22:01:17 --- Epoch: 13\tTrain loss: 2.3033\tTest loss: 2.3031\tTrain accuracy: 10.14\tTest accuracy: 10.00\n",
      "22:02:16 --- Epoch: 14\tTrain loss: 2.3031\tTest loss: 2.3031\tTrain accuracy: 10.14\tTest accuracy: 10.00\n"
     ]
    },
    {
     "name": "stderr",
     "output_type": "stream",
     "text": [
      "/var/folders/mv/39f6vvvn1kb8pjc2zbvyxr5w0000gn/T/ipykernel_4147/308483355.py:17: UserWarning: Matplotlib is currently using module://matplotlib_inline.backend_inline, which is a non-GUI backend, so cannot show the figure.\n",
      "  fig.show()\n"
     ]
    },
    {
     "data": {
      "image/png": "[encoded data removed]",
      "text/plain": [
       "<Figure size 576x324 with 1 Axes>"
      ]
     },
     "metadata": {
      "needs_background": "light"
     },
     "output_type": "display_data"
    }
   ],
   "source": [
    "model, optimizer, _ = evaluation(model, criterion, optimizer, train_dataloader1, test_dataloader, 15, device)"
   ]
  },
  {
   "cell_type": "code",
   "execution_count": 17,
   "id": "960576ce",
   "metadata": {},
   "outputs": [
    {
     "data": {
      "text/plain": [
       "Reusing TensorBoard on port 6007 (pid 3694), started 0:22:28 ago. (Use '!kill 3694' to kill it.)"
      ]
     },
     "metadata": {},
     "output_type": "display_data"
    },
    {
     "data": {
      "text/html": [
       "\n",
       "      <iframe id=\"tensorboard-frame-9a85b17576ec1526\" width=\"100%\" height=\"800\" frameborder=\"0\">\n",
       "      </iframe>\n",
       "      <script>\n",
       "        (function() {\n",
       "          const frame = document.getElementById(\"tensorboard-frame-9a85b17576ec1526\");\n",
       "          const url = new URL(\"/\", window.location);\n",
       "          const port = 6007;\n",
       "          if (port) {\n",
       "            url.port = port;\n",
       "          }\n",
       "          frame.src = url;\n",
       "        })();\n",
       "      </script>\n",
       "    "
      ],
      "text/plain": [
       "<IPython.core.display.HTML object>"
      ]
     },
     "metadata": {},
     "output_type": "display_data"
    }
   ],
   "source": [
    "%reload_ext tensorboard\n",
    "%tensorboard --logdir './runs'"
   ]
  },
  {
   "cell_type": "code",
   "execution_count": null,
   "id": "70f8c38e",
   "metadata": {},
   "outputs": [],
   "source": []
  }
 ],
 "metadata": {
  "kernelspec": {
   "display_name": "Python 3 (ipykernel)",
   "language": "python",
   "name": "python3"
  },
  "language_info": {
   "codemirror_mode": {
    "name": "ipython",
    "version": 3
   },
   "file_extension": ".py",
   "mimetype": "text/x-python",
   "name": "python",
   "nbconvert_exporter": "python",
   "pygments_lexer": "ipython3",
   "version": "3.9.13"
  }
 },
 "nbformat": 4,
 "nbformat_minor": 5
}
