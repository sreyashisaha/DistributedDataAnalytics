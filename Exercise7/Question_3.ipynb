{
 "cells": [
  {
   "cell_type": "code",
   "execution_count": 1,
   "id": "a54a9a7f",
   "metadata": {},
   "outputs": [],
   "source": [
    "import torch\n",
    "import torch.nn as nn\n",
    "import torchvision.transforms as transforms\n",
    "import torchvision.datasets as datasets\n",
    "import torch.nn.functional as F\n",
    "import matplotlib.pyplot as plt\n",
    "from datetime import datetime \n",
    "import gc\n",
    "import numpy as np"
   ]
  },
  {
   "cell_type": "code",
   "execution_count": 2,
   "id": "53b7c28c",
   "metadata": {},
   "outputs": [],
   "source": [
    "import torch\n",
    "import tensorboard\n",
    "from torch.utils.tensorboard import SummaryWriter\n",
    "writer = SummaryWriter()"
   ]
  },
  {
   "cell_type": "code",
   "execution_count": 3,
   "id": "9f9dc1ae",
   "metadata": {},
   "outputs": [
    {
     "data": {
      "text/plain": [
       "'cpu'"
      ]
     },
     "execution_count": 3,
     "metadata": {},
     "output_type": "execute_result"
    }
   ],
   "source": [
    "device = 'cuda' if torch.cuda.is_available() else 'cpu'\n",
    "device"
   ]
  },
  {
   "cell_type": "code",
   "execution_count": 4,
   "id": "fe15702a",
   "metadata": {},
   "outputs": [],
   "source": [
    "# Here we set up some parameters which will be used later in the code\n",
    "# parameters\n",
    "RANDOM_SEED = 12\n",
    "# LEARNING_RATE = 0.001\n",
    "# BATCH_SIZE = 32\n",
    "# N_EPOCHS = 15\n",
    "\n",
    "# IMG_SIZE = 32\n",
    "# N_CLASSES = 10"
   ]
  },
  {
   "cell_type": "code",
   "execution_count": 5,
   "id": "c91aeb83",
   "metadata": {},
   "outputs": [
    {
     "name": "stdout",
     "output_type": "stream",
     "text": [
      "Files already downloaded and verified\n",
      "Files already downloaded and verified\n"
     ]
    }
   ],
   "source": [
    "# convert data to a normalized torch.FloatTensor\n",
    "# transform = transforms.Compose([transforms.ToTensor()])\n",
    "train_transform = transforms.Compose([\n",
    "    transforms.RandomHorizontalFlip(p=0.5),\n",
    "    transforms.RandomCrop(32, padding=4),\n",
    "    transforms.ToTensor(),\n",
    "    transforms.Normalize([0, 0, 0], [1, 1, 1])\n",
    "])\n",
    "\n",
    "test_transform = transforms.Compose([\n",
    "    transforms.ToTensor(),\n",
    "    transforms.Normalize([0, 0, 0], [1, 1, 1])\n",
    "])\n",
    "\n",
    "# declaring the training and test datasets\n",
    "train_data = datasets.CIFAR10('data', train=True,download=True,transform = train_transform)\n",
    "test_data = datasets.CIFAR10('data', train=False,download=True,transform = test_transform)"
   ]
  },
  {
   "cell_type": "code",
   "execution_count": 6,
   "id": "72e0f8f7",
   "metadata": {},
   "outputs": [],
   "source": [
    "set1 = list(range(0,len(train_data),2))\n",
    "set2 = list(range(1,len(train_data),2))\n",
    "train_1 = torch.utils.data.Subset(train_data,set1)\n",
    "train_2 = torch.utils.data.Subset(train_data,set2)"
   ]
  },
  {
   "cell_type": "code",
   "execution_count": 7,
   "id": "2a3b75fd",
   "metadata": {},
   "outputs": [],
   "source": [
    "train_dataloader1 = torch.utils.data.DataLoader(train_1, batch_size=10, shuffle=True, num_workers=2)\n",
    "train_dataloader2 = torch.utils.data.DataLoader(train_2, batch_size=10, shuffle=True, num_workers=2)\n",
    "test_dataloader = torch.utils.data.DataLoader(test_data, batch_size=10, shuffle=True, num_workers=2)"
   ]
  },
  {
   "cell_type": "code",
   "execution_count": 8,
   "id": "f6dbe623",
   "metadata": {},
   "outputs": [],
   "source": [
    "class LeNet5(nn.Module):\n",
    "\n",
    "    def __init__(self, n_classes):\n",
    "        super(LeNet5, self).__init__()\n",
    "        \n",
    "        self.feature_extractor = nn.Sequential(            \n",
    "            nn.Conv2d(in_channels=3, out_channels=6, kernel_size=5, stride=1),\n",
    "            nn.ReLU(),\n",
    "            nn.MaxPool2d(kernel_size=2,stride=2),\n",
    "            nn.Conv2d(in_channels=6, out_channels=16, kernel_size=5, stride=1),\n",
    "            nn.ReLU(),\n",
    "            nn.Conv2d(in_channels=16, out_channels=120, kernel_size=5, stride=1),\n",
    "            nn.ReLU(),\n",
    "            \n",
    "            nn.MaxPool2d(kernel_size=6,stride=1)\n",
    "        )\n",
    "\n",
    "        self.classifier = nn.Sequential(\n",
    "            nn.Linear(in_features=120, out_features=84),\n",
    "            nn.ReLU(),\n",
    "            nn.Linear(in_features=84, out_features=42),\n",
    "            nn.ReLU(),\n",
    "            nn.Linear(in_features=42, out_features=n_classes),\n",
    "        )\n",
    "\n",
    "\n",
    "    def forward(self, x):\n",
    "        x = self.feature_extractor(x)\n",
    "        x = torch.flatten(x, 1)\n",
    "        logits = self.classifier(x)\n",
    "        probs = F.softmax(logits, dim=1)\n",
    "        return logits, probs"
   ]
  },
  {
   "cell_type": "code",
   "execution_count": 9,
   "id": "8cdcdb95",
   "metadata": {},
   "outputs": [],
   "source": [
    "def train(train_loader, model, criterion, optimizer, device):\n",
    "\n",
    "    model.train()\n",
    "    running_loss = 0\n",
    "    \n",
    "    for X, y_true in train_loader:\n",
    "\n",
    "        optimizer.zero_grad()\n",
    "        \n",
    "        X = X.to(device)\n",
    "        y_true = y_true.to(device)\n",
    "    \n",
    "        # Forward pass\n",
    "        y_hat, _ = model(X) \n",
    "        loss = criterion(y_hat, y_true) \n",
    "        running_loss += loss.item() * X.size(0)\n",
    "\n",
    "        # Backward pass\n",
    "        loss.backward()\n",
    "        optimizer.step()\n",
    "        \n",
    "    Loss = running_loss / len(train_loader.dataset)\n",
    "    return model, optimizer, Loss"
   ]
  },
  {
   "cell_type": "code",
   "execution_count": 10,
   "id": "fb7f5418",
   "metadata": {},
   "outputs": [],
   "source": [
    "def test(test_loader, model, criterion, device):\n",
    "    model.eval()\n",
    "    running_loss = 0\n",
    "    \n",
    "    for X, y_true in test_loader:\n",
    "    \n",
    "        X = X.to(device)\n",
    "        y_true = y_true.to(device)\n",
    "\n",
    "        # Forward pass and record loss\n",
    "        y_hat, _ = model(X) \n",
    "        loss = criterion(y_hat, y_true) \n",
    "        running_loss += loss.item() * X.size(0)\n",
    "\n",
    "    Loss = running_loss / len(test_loader.dataset)\n",
    "        \n",
    "    return model, Loss"
   ]
  },
  {
   "cell_type": "code",
   "execution_count": 11,
   "id": "d0af5f36",
   "metadata": {},
   "outputs": [],
   "source": [
    "def plot_loss(train_losses, valid_losses):\n",
    "\n",
    "    # change the style of the plots to seaborn \n",
    "    plt.style.use('seaborn')\n",
    "\n",
    "    train_losses = np.array(train_losses) \n",
    "    valid_losses = np.array(valid_losses)\n",
    "\n",
    "    fig, ax = plt.subplots(figsize = (8, 4.5))\n",
    "\n",
    "    ax.plot(train_losses, color='blue', label='Training loss') \n",
    "    ax.plot(valid_losses, color='red', label='Testing loss')\n",
    "    ax.set(title=\"Loss over epochs\", \n",
    "            xlabel='Epoch',\n",
    "            ylabel='Loss') \n",
    "    ax.legend()\n",
    "    fig.show()\n",
    "    \n",
    "    # change the plot style to default\n",
    "    plt.style.use('default')"
   ]
  },
  {
   "cell_type": "code",
   "execution_count": 12,
   "id": "739e4ea1",
   "metadata": {},
   "outputs": [],
   "source": [
    "def get_accuracy(model, data_loader, device):\n",
    "    correct_pred = 0 \n",
    "    n = 0\n",
    "    \n",
    "    with torch.no_grad():\n",
    "        model.eval()\n",
    "        for X, y_true in data_loader:\n",
    "\n",
    "            X = X.to(device)\n",
    "            y_true = y_true.to(device)\n",
    "\n",
    "            _, y_prob = model(X)\n",
    "#             print(\"Probabilities\",y_prob)\n",
    "            _, predicted_labels = torch.max(y_prob, 1)\n",
    "\n",
    "            n += y_true.size(0)\n",
    "            correct_pred += (predicted_labels == y_true).sum()\n",
    "\n",
    "    return correct_pred.float() / n"
   ]
  },
  {
   "cell_type": "code",
   "execution_count": 13,
   "id": "ca8796e9",
   "metadata": {},
   "outputs": [],
   "source": [
    "def evaluation(model, criterion, optimizer, train_loader, test_loader, epochs, device, print_every=1):\n",
    "    \n",
    "    # set objects for storing metrics\n",
    "    train_losses = []\n",
    "    test_losses = []\n",
    " \n",
    "    # Train model\n",
    "    for epoch in range(0, epochs):\n",
    "\n",
    "        # training\n",
    "        model, optimizer, train_loss = train(train_loader, model, criterion, optimizer, device)\n",
    "        writer.add_scalar(\"Loss train\", train_loss, epoch+1)\n",
    "        train_losses.append(train_loss)\n",
    "\n",
    "        # validation\n",
    "        with torch.no_grad():\n",
    "            model, test_loss = test(test_loader, model, criterion, device)\n",
    "            writer.add_scalar(\"Loss test\", test_loss, epoch+1)\n",
    "            test_losses.append(test_loss)\n",
    "\n",
    "        if epoch % print_every == (print_every - 1):\n",
    "            \n",
    "            train_acc = get_accuracy(model, train_loader, device=device)\n",
    "            writer.add_scalar(\"Train Accuracy\", train_acc, epoch+1)\n",
    "            test_acc = get_accuracy(model, test_loader, device=device)\n",
    "            writer.add_scalar(\"Test Accuracy\", test_acc, epoch+1)    \n",
    "            print(f'{datetime.now().time().replace(microsecond=0)} --- '\n",
    "                  f'Epoch: {epoch}\\t'\n",
    "                  f'Train loss: {train_loss:.4f}\\t'\n",
    "                  f'Test loss: {test_loss:.4f}\\t'\n",
    "                  f'Train accuracy: {100 * train_acc:.2f}\\t'\n",
    "                  f'Test accuracy: {100 * test_acc:.2f}')\n",
    "\n",
    "            \n",
    "    plot_loss(train_losses, test_losses)\n",
    "#     train_arr = np.array(train_losses)\n",
    "#     train_tensor = torch.as_tensor(train_arr)\n",
    "#     test_arr = np.array(test_losses)\n",
    "#     test_tensor = torch.as_tensor(test_arr)\n",
    "#     writer.add_scalar(\"Loss train\", train_losses, epochs)\n",
    "#     writer.add_scalar(\"Loss test\", test_losses, epochs)\n",
    "    \n",
    "    return model, optimizer, (train_losses,test_losses)"
   ]
  },
  {
   "cell_type": "code",
   "execution_count": 17,
   "id": "67085eae",
   "metadata": {},
   "outputs": [],
   "source": [
    "\n",
    "model = LeNet5(10).to(device)\n",
    "optimizer = torch.optim.SGD(model.parameters(), lr=0.001)\n",
    "criterion = nn.L1Loss()"
   ]
  },
  {
   "cell_type": "code",
   "execution_count": 18,
   "id": "41d2f5b5",
   "metadata": {},
   "outputs": [
    {
     "name": "stderr",
     "output_type": "stream",
     "text": [
      "/opt/homebrew/lib/python3.9/site-packages/torch/nn/modules/loss.py:96: UserWarning: Using a target size (torch.Size([10])) that is different to the input size (torch.Size([10, 10])). This will likely lead to incorrect results due to broadcasting. Please ensure they have the same size.\n",
      "  return F.l1_loss(input, target, reduction=self.reduction)\n"
     ]
    },
    {
     "name": "stdout",
     "output_type": "stream",
     "text": [
      "00:32:18 --- Epoch: 0\tTrain loss: 4.3575\tTest loss: 4.1652\tTrain accuracy: 7.88\tTest accuracy: 7.93\n",
      "00:33:22 --- Epoch: 1\tTrain loss: 2.7391\tTest loss: 2.5429\tTrain accuracy: 10.15\tTest accuracy: 9.99\n",
      "00:34:25 --- Epoch: 2\tTrain loss: 2.5479\tTest loss: 2.5491\tTrain accuracy: 10.09\tTest accuracy: 10.00\n",
      "00:35:31 --- Epoch: 3\tTrain loss: 2.5357\tTest loss: 2.5388\tTrain accuracy: 9.84\tTest accuracy: 10.00\n",
      "00:36:34 --- Epoch: 4\tTrain loss: 2.5251\tTest loss: 2.5120\tTrain accuracy: 9.60\tTest accuracy: 10.00\n",
      "00:37:38 --- Epoch: 5\tTrain loss: 2.5158\tTest loss: 2.5079\tTrain accuracy: 10.09\tTest accuracy: 10.00\n",
      "00:38:41 --- Epoch: 6\tTrain loss: 2.5087\tTest loss: 2.5040\tTrain accuracy: 10.02\tTest accuracy: 10.00\n",
      "00:39:45 --- Epoch: 7\tTrain loss: 2.5049\tTest loss: 2.4997\tTrain accuracy: 9.83\tTest accuracy: 10.00\n",
      "00:40:48 --- Epoch: 8\tTrain loss: 2.5051\tTest loss: 2.5008\tTrain accuracy: 10.14\tTest accuracy: 10.00\n",
      "00:41:52 --- Epoch: 9\tTrain loss: 2.5046\tTest loss: 2.4974\tTrain accuracy: 9.60\tTest accuracy: 10.00\n",
      "00:42:58 --- Epoch: 10\tTrain loss: 2.5060\tTest loss: 2.5025\tTrain accuracy: 9.60\tTest accuracy: 10.00\n",
      "00:44:04 --- Epoch: 11\tTrain loss: 2.5076\tTest loss: 2.5210\tTrain accuracy: 9.83\tTest accuracy: 10.00\n",
      "00:45:11 --- Epoch: 12\tTrain loss: 2.5051\tTest loss: 2.5007\tTrain accuracy: 9.83\tTest accuracy: 10.00\n",
      "00:46:15 --- Epoch: 13\tTrain loss: 2.5045\tTest loss: 2.5020\tTrain accuracy: 10.02\tTest accuracy: 10.00\n",
      "00:47:19 --- Epoch: 14\tTrain loss: 2.5039\tTest loss: 2.5059\tTrain accuracy: 10.22\tTest accuracy: 10.00\n"
     ]
    },
    {
     "name": "stderr",
     "output_type": "stream",
     "text": [
      "/var/folders/mv/39f6vvvn1kb8pjc2zbvyxr5w0000gn/T/ipykernel_6278/308483355.py:17: UserWarning: Matplotlib is currently using module://matplotlib_inline.backend_inline, which is a non-GUI backend, so cannot show the figure.\n",
      "  fig.show()\n"
     ]
    },
    {
     "data": {
      "image/png": "[encoded data removed]",
      "text/plain": [
       "<Figure size 576x324 with 1 Axes>"
      ]
     },
     "metadata": {
      "needs_background": "light"
     },
     "output_type": "display_data"
    }
   ],
   "source": [
    "model, optimizer, _ = evaluation(model, criterion, optimizer, train_dataloader1, test_dataloader, 15, device)"
   ]
  },
  {
   "cell_type": "code",
   "execution_count": 19,
   "id": "f860452e",
   "metadata": {},
   "outputs": [
    {
     "data": {
      "text/plain": [
       "Reusing TensorBoard on port 6007 (pid 2789), started 11:57:47 ago. (Use '!kill 2789' to kill it.)"
      ]
     },
     "metadata": {},
     "output_type": "display_data"
    },
    {
     "data": {
      "text/html": [
       "\n",
       "      <iframe id=\"tensorboard-frame-8a228b828ae91da7\" width=\"100%\" height=\"800\" frameborder=\"0\">\n",
       "      </iframe>\n",
       "      <script>\n",
       "        (function() {\n",
       "          const frame = document.getElementById(\"tensorboard-frame-8a228b828ae91da7\");\n",
       "          const url = new URL(\"/\", window.location);\n",
       "          const port = 6007;\n",
       "          if (port) {\n",
       "            url.port = port;\n",
       "          }\n",
       "          frame.src = url;\n",
       "        })();\n",
       "      </script>\n",
       "    "
      ],
      "text/plain": [
       "<IPython.core.display.HTML object>"
      ]
     },
     "metadata": {},
     "output_type": "display_data"
    }
   ],
   "source": [
    "%reload_ext tensorboard\n",
    "%tensorboard --logdir './runs'"
   ]
  },
  {
   "cell_type": "code",
   "execution_count": 14,
   "id": "73e4e602",
   "metadata": {},
   "outputs": [],
   "source": [
    "model = LeNet5(10).to(device)\n",
    "optimizer = torch.optim.Adam(model.parameters(), lr=0.01)\n",
    "criterion = nn.L1Loss()"
   ]
  },
  {
   "cell_type": "code",
   "execution_count": null,
   "id": "81c2359f",
   "metadata": {},
   "outputs": [
    {
     "name": "stderr",
     "output_type": "stream",
     "text": [
      "/opt/homebrew/lib/python3.9/site-packages/torch/nn/modules/loss.py:96: UserWarning: Using a target size (torch.Size([10])) that is different to the input size (torch.Size([10, 10])). This will likely lead to incorrect results due to broadcasting. Please ensure they have the same size.\n",
      "  return F.l1_loss(input, target, reduction=self.reduction)\n"
     ]
    },
    {
     "name": "stdout",
     "output_type": "stream",
     "text": [
      "02:34:30 --- Epoch: 0\tTrain loss: 2.5895\tTest loss: 2.5038\tTrain accuracy: 10.22\tTest accuracy: 10.00\n",
      "02:35:34 --- Epoch: 1\tTrain loss: 2.5217\tTest loss: 2.5347\tTrain accuracy: 10.09\tTest accuracy: 10.00\n",
      "02:36:38 --- Epoch: 2\tTrain loss: 2.5177\tTest loss: 2.5087\tTrain accuracy: 10.17\tTest accuracy: 10.00\n",
      "02:37:43 --- Epoch: 3\tTrain loss: 2.5193\tTest loss: 2.5606\tTrain accuracy: 9.84\tTest accuracy: 10.00\n",
      "02:38:47 --- Epoch: 4\tTrain loss: 2.5148\tTest loss: 2.5040\tTrain accuracy: 10.00\tTest accuracy: 10.00\n",
      "02:39:51 --- Epoch: 5\tTrain loss: 2.5106\tTest loss: 2.5033\tTrain accuracy: 10.09\tTest accuracy: 10.00\n",
      "02:40:54 --- Epoch: 6\tTrain loss: 2.5149\tTest loss: 2.5164\tTrain accuracy: 10.09\tTest accuracy: 10.00\n",
      "02:41:58 --- Epoch: 7\tTrain loss: 2.5098\tTest loss: 2.5013\tTrain accuracy: 10.14\tTest accuracy: 10.00\n"
     ]
    }
   ],
   "source": [
    "model, optimizer, _ = evaluation(model, criterion, optimizer, train_dataloader1, test_dataloader, 15, device)"
   ]
  },
  {
   "cell_type": "code",
   "execution_count": 36,
   "id": "4615c667",
   "metadata": {},
   "outputs": [],
   "source": [
    "\n",
    "model1 = LeNet5(10).to(device)\n",
    "optimizer1 = torch.optim.SGD(model.parameters(), lr=0.001)\n",
    "criterion1 = nn.L1Loss()"
   ]
  },
  {
   "cell_type": "code",
   "execution_count": 37,
   "id": "50f7fb83",
   "metadata": {},
   "outputs": [
    {
     "name": "stdout",
     "output_type": "stream",
     "text": [
      "01:04:02 --- Epoch: 0\tTrain loss: 4.5281\tTest loss: 4.5433\tTrain accuracy: 10.09\tTest accuracy: 10.00\n",
      "01:05:06 --- Epoch: 1\tTrain loss: 4.5283\tTest loss: 4.5435\tTrain accuracy: 10.09\tTest accuracy: 10.00\n",
      "01:06:11 --- Epoch: 2\tTrain loss: 4.5284\tTest loss: 4.5432\tTrain accuracy: 10.09\tTest accuracy: 10.00\n",
      "01:07:15 --- Epoch: 3\tTrain loss: 4.5282\tTest loss: 4.5433\tTrain accuracy: 10.09\tTest accuracy: 10.00\n",
      "01:08:20 --- Epoch: 4\tTrain loss: 4.5282\tTest loss: 4.5431\tTrain accuracy: 10.09\tTest accuracy: 10.00\n",
      "01:09:26 --- Epoch: 5\tTrain loss: 4.5282\tTest loss: 4.5432\tTrain accuracy: 10.09\tTest accuracy: 10.00\n",
      "01:10:30 --- Epoch: 6\tTrain loss: 4.5284\tTest loss: 4.5433\tTrain accuracy: 10.09\tTest accuracy: 10.00\n",
      "01:11:35 --- Epoch: 7\tTrain loss: 4.5283\tTest loss: 4.5432\tTrain accuracy: 10.09\tTest accuracy: 10.00\n",
      "01:12:40 --- Epoch: 8\tTrain loss: 4.5284\tTest loss: 4.5434\tTrain accuracy: 10.09\tTest accuracy: 10.00\n",
      "01:13:45 --- Epoch: 9\tTrain loss: 4.5284\tTest loss: 4.5432\tTrain accuracy: 10.09\tTest accuracy: 10.00\n",
      "01:14:49 --- Epoch: 10\tTrain loss: 4.5282\tTest loss: 4.5432\tTrain accuracy: 10.09\tTest accuracy: 10.00\n",
      "01:15:53 --- Epoch: 11\tTrain loss: 4.5281\tTest loss: 4.5430\tTrain accuracy: 10.09\tTest accuracy: 10.00\n",
      "01:16:57 --- Epoch: 12\tTrain loss: 4.5285\tTest loss: 4.5432\tTrain accuracy: 10.09\tTest accuracy: 10.00\n",
      "01:18:00 --- Epoch: 13\tTrain loss: 4.5283\tTest loss: 4.5436\tTrain accuracy: 10.09\tTest accuracy: 10.00\n",
      "01:19:04 --- Epoch: 14\tTrain loss: 4.5282\tTest loss: 4.5435\tTrain accuracy: 10.09\tTest accuracy: 10.00\n"
     ]
    },
    {
     "name": "stderr",
     "output_type": "stream",
     "text": [
      "/var/folders/mv/39f6vvvn1kb8pjc2zbvyxr5w0000gn/T/ipykernel_6278/308483355.py:17: UserWarning: Matplotlib is currently using module://matplotlib_inline.backend_inline, which is a non-GUI backend, so cannot show the figure.\n",
      "  fig.show()\n"
     ]
    },
    {
     "data": {
      "image/png": "[encoded data removed]",
      "text/plain": [
       "<Figure size 800x450 with 1 Axes>"
      ]
     },
     "metadata": {},
     "output_type": "display_data"
    }
   ],
   "source": [
    "model1, optimizer1, _ = evaluation(model1, criterion1, optimizer1, train_dataloader1, test_dataloader, 15, device)"
   ]
  },
  {
   "cell_type": "code",
   "execution_count": 39,
   "id": "28bb105f",
   "metadata": {},
   "outputs": [],
   "source": [
    "model2 = LeNet5(10).to(device)\n",
    "optimizer2 = torch.optim.Adam(model.parameters(), lr=0.001)\n",
    "criterion2 = nn.L1Loss()"
   ]
  },
  {
   "cell_type": "code",
   "execution_count": 40,
   "id": "65d4ea83",
   "metadata": {},
   "outputs": [
    {
     "name": "stderr",
     "output_type": "stream",
     "text": [
      "/opt/homebrew/lib/python3.9/site-packages/torch/nn/modules/loss.py:96: UserWarning: Using a target size (torch.Size([10])) that is different to the input size (torch.Size([10, 10])). This will likely lead to incorrect results due to broadcasting. Please ensure they have the same size.\n",
      "  return F.l1_loss(input, target, reduction=self.reduction)\n"
     ]
    },
    {
     "name": "stdout",
     "output_type": "stream",
     "text": [
      "01:52:46 --- Epoch: 0\tTrain loss: 4.5023\tTest loss: 4.5174\tTrain accuracy: 10.17\tTest accuracy: 10.25\n",
      "01:53:51 --- Epoch: 1\tTrain loss: 4.5027\tTest loss: 4.5177\tTrain accuracy: 10.15\tTest accuracy: 10.25\n",
      "01:54:57 --- Epoch: 2\tTrain loss: 4.5024\tTest loss: 4.5172\tTrain accuracy: 10.11\tTest accuracy: 10.25\n",
      "01:56:03 --- Epoch: 3\tTrain loss: 4.5025\tTest loss: 4.5173\tTrain accuracy: 10.09\tTest accuracy: 10.25\n",
      "01:57:09 --- Epoch: 4\tTrain loss: 4.5025\tTest loss: 4.5171\tTrain accuracy: 10.15\tTest accuracy: 10.25\n",
      "01:58:14 --- Epoch: 5\tTrain loss: 4.5027\tTest loss: 4.5173\tTrain accuracy: 10.16\tTest accuracy: 10.25\n",
      "01:59:19 --- Epoch: 6\tTrain loss: 4.5022\tTest loss: 4.5165\tTrain accuracy: 10.30\tTest accuracy: 10.25\n",
      "02:00:25 --- Epoch: 7\tTrain loss: 4.5024\tTest loss: 4.5174\tTrain accuracy: 10.19\tTest accuracy: 10.25\n",
      "02:01:30 --- Epoch: 8\tTrain loss: 4.5024\tTest loss: 4.5173\tTrain accuracy: 10.18\tTest accuracy: 10.25\n",
      "02:02:37 --- Epoch: 9\tTrain loss: 4.5021\tTest loss: 4.5174\tTrain accuracy: 10.04\tTest accuracy: 10.25\n",
      "02:03:43 --- Epoch: 10\tTrain loss: 4.5023\tTest loss: 4.5169\tTrain accuracy: 10.14\tTest accuracy: 10.25\n",
      "02:04:49 --- Epoch: 11\tTrain loss: 4.5026\tTest loss: 4.5168\tTrain accuracy: 10.12\tTest accuracy: 10.25\n",
      "02:05:55 --- Epoch: 12\tTrain loss: 4.5025\tTest loss: 4.5174\tTrain accuracy: 10.18\tTest accuracy: 10.25\n",
      "02:07:00 --- Epoch: 13\tTrain loss: 4.5025\tTest loss: 4.5173\tTrain accuracy: 10.19\tTest accuracy: 10.25\n",
      "02:08:06 --- Epoch: 14\tTrain loss: 4.5026\tTest loss: 4.5170\tTrain accuracy: 10.07\tTest accuracy: 10.25\n"
     ]
    },
    {
     "name": "stderr",
     "output_type": "stream",
     "text": [
      "/var/folders/mv/39f6vvvn1kb8pjc2zbvyxr5w0000gn/T/ipykernel_6278/308483355.py:17: UserWarning: Matplotlib is currently using module://matplotlib_inline.backend_inline, which is a non-GUI backend, so cannot show the figure.\n",
      "  fig.show()\n"
     ]
    },
    {
     "data": {
      "image/png": "[encoded data removed]",
      "text/plain": [
       "<Figure size 800x450 with 1 Axes>"
      ]
     },
     "metadata": {},
     "output_type": "display_data"
    }
   ],
   "source": [
    "model2, optimizer2, _ = evaluation(model2, criterion2, optimizer2, train_dataloader1, test_dataloader, 15, device)"
   ]
  },
  {
   "cell_type": "code",
   "execution_count": 49,
   "id": "565e3c63",
   "metadata": {},
   "outputs": [
    {
     "data": {
      "text/plain": [
       "Reusing TensorBoard on port 6007 (pid 2789), started 13:39:17 ago. (Use '!kill 2789' to kill it.)"
      ]
     },
     "metadata": {},
     "output_type": "display_data"
    },
    {
     "data": {
      "text/html": [
       "\n",
       "      <iframe id=\"tensorboard-frame-55e6a2727b17af5c\" width=\"100%\" height=\"800\" frameborder=\"0\">\n",
       "      </iframe>\n",
       "      <script>\n",
       "        (function() {\n",
       "          const frame = document.getElementById(\"tensorboard-frame-55e6a2727b17af5c\");\n",
       "          const url = new URL(\"/\", window.location);\n",
       "          const port = 6007;\n",
       "          if (port) {\n",
       "            url.port = port;\n",
       "          }\n",
       "          frame.src = url;\n",
       "        })();\n",
       "      </script>\n",
       "    "
      ],
      "text/plain": [
       "<IPython.core.display.HTML object>"
      ]
     },
     "metadata": {},
     "output_type": "display_data"
    }
   ],
   "source": [
    "%reload_ext tensorboard\n",
    "%tensorboard --logdir './runs'"
   ]
  },
  {
   "cell_type": "code",
   "execution_count": null,
   "id": "abd14b27",
   "metadata": {},
   "outputs": [],
   "source": []
  }
 ],
 "metadata": {
  "kernelspec": {
   "display_name": "Python 3 (ipykernel)",
   "language": "python",
   "name": "python3"
  },
  "language_info": {
   "codemirror_mode": {
    "name": "ipython",
    "version": 3
   },
   "file_extension": ".py",
   "mimetype": "text/x-python",
   "name": "python",
   "nbconvert_exporter": "python",
   "pygments_lexer": "ipython3",
   "version": "3.9.13"
  }
 },
 "nbformat": 4,
 "nbformat_minor": 5
}
