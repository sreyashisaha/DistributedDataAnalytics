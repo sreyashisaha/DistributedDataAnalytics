{
 "cells": [
  {
   "cell_type": "markdown",
   "id": "d3a048d7",
   "metadata": {},
   "source": [
    "## Part b) Basic Operations on DataFrames (6 points)\n",
    "\n",
    "Use dataset students.json (download from learnweb) for this exercise. First creating DataFrames from the dataset and do several tasks as follows:\n"
   ]
  },
  {
   "cell_type": "code",
   "execution_count": 2,
   "id": "e44a5ff7",
   "metadata": {},
   "outputs": [],
   "source": [
    "import pyspark\n",
    "from pyspark.sql import SparkSession\n",
    "from pyspark import SparkContext\n",
    "from pyspark.sql import SQLContext"
   ]
  },
  {
   "cell_type": "code",
   "execution_count": 3,
   "id": "f2590c6b",
   "metadata": {},
   "outputs": [
    {
     "name": "stderr",
     "output_type": "stream",
     "text": [
      "Setting default log level to \"WARN\".\n",
      "To adjust logging level use sc.setLogLevel(newLevel). For SparkR, use setLogLevel(newLevel).\n"
     ]
    },
    {
     "name": "stdout",
     "output_type": "stream",
     "text": [
      "22/07/03 10:58:48 WARN NativeCodeLoader: Unable to load native-hadoop library for your platform... using builtin-java classes where applicable\n",
      "22/07/03 10:58:50 WARN Utils: Service 'SparkUI' could not bind on port 4040. Attempting port 4041.\n",
      "22/07/03 10:58:50 WARN Utils: Service 'SparkUI' could not bind on port 4041. Attempting port 4042.\n",
      "22/07/03 10:58:50 WARN Utils: Service 'SparkUI' could not bind on port 4042. Attempting port 4043.\n",
      "22/07/03 10:58:50 WARN Utils: Service 'SparkUI' could not bind on port 4043. Attempting port 4044.\n",
      "22/07/03 10:58:50 WARN Utils: Service 'SparkUI' could not bind on port 4044. Attempting port 4045.\n",
      "22/07/03 10:58:50 WARN Utils: Service 'SparkUI' could not bind on port 4045. Attempting port 4046.\n",
      "22/07/03 10:58:50 WARN Utils: Service 'SparkUI' could not bind on port 4046. Attempting port 4047.\n",
      "22/07/03 10:58:50 WARN Utils: Service 'SparkUI' could not bind on port 4047. Attempting port 4048.\n",
      "22/07/03 10:58:50 WARN Utils: Service 'SparkUI' could not bind on port 4048. Attempting port 4049.\n"
     ]
    },
    {
     "name": "stderr",
     "output_type": "stream",
     "text": [
      "                                                                                \r"
     ]
    },
    {
     "name": "stdout",
     "output_type": "stream",
     "text": [
      "root\n",
      " |-- course: string (nullable = true)\n",
      " |-- dob: string (nullable = true)\n",
      " |-- first_name: string (nullable = true)\n",
      " |-- last_name: string (nullable = true)\n",
      " |-- points: long (nullable = true)\n",
      " |-- s_id: long (nullable = true)\n",
      "\n",
      "+------------------+------------------+----------+---------+------+----+\n",
      "|            course|               dob|first_name|last_name|points|s_id|\n",
      "+------------------+------------------+----------+---------+------+----+\n",
      "|Humanities and Art|  October 14, 1983|      Alan|      Joe|    10|   1|\n",
      "|  Computer Science|September 26, 1980|    Martin|  Genberg|    17|   2|\n",
      "|    Graphic Design|     June 12, 1982|     Athur|   Watson|    16|   3|\n",
      "|    Graphic Design|     April 5, 1987|  Anabelle|  Sanberg|    12|   4|\n",
      "|        Psychology|  November 1, 1978|      Kira| Schommer|    11|   5|\n",
      "|          Business|  17 February 1981| Christian|   Kiriam|    10|   6|\n",
      "|  Machine Learning|    1 January 1984|   Barbara|  Ballard|    14|   7|\n",
      "|     Deep Learning|  January 13, 1978|      John|     null|    10|   8|\n",
      "|  Machine Learning|  26 December 1989|    Marcus|   Carson|    15|   9|\n",
      "|           Physics|  30 December 1987|     Marta|   Brooks|    11|  10|\n",
      "|    Data Analytics|     June 12, 1975|     Holly| Schwartz|    12|  11|\n",
      "|  Computer Science|      July 2, 1985|     April|    Black|  null|  12|\n",
      "|  Computer Science|     July 22, 1980|     Irene|  Bradley|    13|  13|\n",
      "|        Psychology|   7 February 1986|      Mark|    Weber|    12|  14|\n",
      "|       Informatics|      May 18, 1987|     Rosie|   Norman|     9|  15|\n",
      "|          Business|   August 10, 1984|    Martin|   Steele|     7|  16|\n",
      "|  Machine Learning|  16 December 1990|     Colin| Martinez|     9|  17|\n",
      "|    Data Analytics|              null|   Bridget|    Twain|     6|  18|\n",
      "|          Business|      7 March 1980|   Darlene|    Mills|    19|  19|\n",
      "|    Data Analytics|      June 2, 1985|   Zachary|     null|    10|  20|\n",
      "+------------------+------------------+----------+---------+------+----+\n",
      "\n"
     ]
    }
   ],
   "source": [
    "# Read JSON file into dataframe\n",
    "spark = SparkSession.builder.appName(\n",
    "    'Read Json File into DataFrame').getOrCreate()\n",
    "df = spark.read.json(\"students.json\")\n",
    "df.printSchema()\n",
    "df.show()"
   ]
  },
  {
   "cell_type": "markdown",
   "id": "3a831c29",
   "metadata": {},
   "source": [
    "1. Replace the null value(s) in column points by the mean of all points. (0.5 point)"
   ]
  },
  {
   "cell_type": "code",
   "execution_count": 5,
   "id": "a3d2e21f",
   "metadata": {},
   "outputs": [
    {
     "name": "stdout",
     "output_type": "stream",
     "text": [
      "The mean of the points column is  11.736842105263158\n"
     ]
    }
   ],
   "source": [
    "#Replace mean for null on only points column \n",
    "mean = df.agg({'points': 'mean'}).collect()\n",
    "mean = mean[0][0]\n",
    "print(\"The mean of the points column is \", mean)\n",
    "new_df = df.na.fill(value=mean,subset=[\"points\"])"
   ]
  },
  {
   "cell_type": "code",
   "execution_count": 6,
   "id": "aa305360",
   "metadata": {},
   "outputs": [
    {
     "name": "stdout",
     "output_type": "stream",
     "text": [
      "+------------------+------------------+----------+---------+------+----+\n",
      "|            course|               dob|first_name|last_name|points|s_id|\n",
      "+------------------+------------------+----------+---------+------+----+\n",
      "|Humanities and Art|  October 14, 1983|      Alan|      Joe|    10|   1|\n",
      "|  Computer Science|September 26, 1980|    Martin|  Genberg|    17|   2|\n",
      "|    Graphic Design|     June 12, 1982|     Athur|   Watson|    16|   3|\n",
      "|    Graphic Design|     April 5, 1987|  Anabelle|  Sanberg|    12|   4|\n",
      "|        Psychology|  November 1, 1978|      Kira| Schommer|    11|   5|\n",
      "|          Business|  17 February 1981| Christian|   Kiriam|    10|   6|\n",
      "|  Machine Learning|    1 January 1984|   Barbara|  Ballard|    14|   7|\n",
      "|     Deep Learning|  January 13, 1978|      John|     null|    10|   8|\n",
      "|  Machine Learning|  26 December 1989|    Marcus|   Carson|    15|   9|\n",
      "|           Physics|  30 December 1987|     Marta|   Brooks|    11|  10|\n",
      "|    Data Analytics|     June 12, 1975|     Holly| Schwartz|    12|  11|\n",
      "|  Computer Science|      July 2, 1985|     April|    Black|    11|  12|\n",
      "|  Computer Science|     July 22, 1980|     Irene|  Bradley|    13|  13|\n",
      "|        Psychology|   7 February 1986|      Mark|    Weber|    12|  14|\n",
      "|       Informatics|      May 18, 1987|     Rosie|   Norman|     9|  15|\n",
      "|          Business|   August 10, 1984|    Martin|   Steele|     7|  16|\n",
      "|  Machine Learning|  16 December 1990|     Colin| Martinez|     9|  17|\n",
      "|    Data Analytics|              null|   Bridget|    Twain|     6|  18|\n",
      "|          Business|      7 March 1980|   Darlene|    Mills|    19|  19|\n",
      "|    Data Analytics|      June 2, 1985|   Zachary|     null|    10|  20|\n",
      "+------------------+------------------+----------+---------+------+----+\n",
      "\n"
     ]
    }
   ],
   "source": [
    "new_df.show() # we can see that the null values has been replaced by the mean"
   ]
  },
  {
   "cell_type": "markdown",
   "id": "67fca097",
   "metadata": {},
   "source": [
    "2. Replace the null value(s) in column dob and column last name by \"unknown\" and \"--\" respec- tively. (0.5 point)"
   ]
  },
  {
   "cell_type": "code",
   "execution_count": 8,
   "id": "c977bde5",
   "metadata": {},
   "outputs": [
    {
     "name": "stdout",
     "output_type": "stream",
     "text": [
      "+------------------+------------------+----------+---------+------+----+\n",
      "|            course|               dob|first_name|last_name|points|s_id|\n",
      "+------------------+------------------+----------+---------+------+----+\n",
      "|Humanities and Art|  October 14, 1983|      Alan|      Joe|    10|   1|\n",
      "|  Computer Science|September 26, 1980|    Martin|  Genberg|    17|   2|\n",
      "|    Graphic Design|     June 12, 1982|     Athur|   Watson|    16|   3|\n",
      "|    Graphic Design|     April 5, 1987|  Anabelle|  Sanberg|    12|   4|\n",
      "|        Psychology|  November 1, 1978|      Kira| Schommer|    11|   5|\n",
      "|          Business|  17 February 1981| Christian|   Kiriam|    10|   6|\n",
      "|  Machine Learning|    1 January 1984|   Barbara|  Ballard|    14|   7|\n",
      "|     Deep Learning|  January 13, 1978|      John|     null|    10|   8|\n",
      "|  Machine Learning|  26 December 1989|    Marcus|   Carson|    15|   9|\n",
      "|           Physics|  30 December 1987|     Marta|   Brooks|    11|  10|\n",
      "|    Data Analytics|     June 12, 1975|     Holly| Schwartz|    12|  11|\n",
      "|  Computer Science|      July 2, 1985|     April|    Black|    11|  12|\n",
      "|  Computer Science|     July 22, 1980|     Irene|  Bradley|    13|  13|\n",
      "|        Psychology|   7 February 1986|      Mark|    Weber|    12|  14|\n",
      "|       Informatics|      May 18, 1987|     Rosie|   Norman|     9|  15|\n",
      "|          Business|   August 10, 1984|    Martin|   Steele|     7|  16|\n",
      "|  Machine Learning|  16 December 1990|     Colin| Martinez|     9|  17|\n",
      "|    Data Analytics|           unknown|   Bridget|    Twain|     6|  18|\n",
      "|          Business|      7 March 1980|   Darlene|    Mills|    19|  19|\n",
      "|    Data Analytics|      June 2, 1985|   Zachary|     null|    10|  20|\n",
      "+------------------+------------------+----------+---------+------+----+\n",
      "\n"
     ]
    }
   ],
   "source": [
    "df1 = new_df.na.fill(value=\"unknown\",subset=[\"dob\"])\n",
    "df1.show()"
   ]
  },
  {
   "cell_type": "code",
   "execution_count": 9,
   "id": "6657e876",
   "metadata": {},
   "outputs": [
    {
     "name": "stdout",
     "output_type": "stream",
     "text": [
      "+------------------+------------------+----------+---------+------+----+\n",
      "|            course|               dob|first_name|last_name|points|s_id|\n",
      "+------------------+------------------+----------+---------+------+----+\n",
      "|Humanities and Art|  October 14, 1983|      Alan|      Joe|    10|   1|\n",
      "|  Computer Science|September 26, 1980|    Martin|  Genberg|    17|   2|\n",
      "|    Graphic Design|     June 12, 1982|     Athur|   Watson|    16|   3|\n",
      "|    Graphic Design|     April 5, 1987|  Anabelle|  Sanberg|    12|   4|\n",
      "|        Psychology|  November 1, 1978|      Kira| Schommer|    11|   5|\n",
      "|          Business|  17 February 1981| Christian|   Kiriam|    10|   6|\n",
      "|  Machine Learning|    1 January 1984|   Barbara|  Ballard|    14|   7|\n",
      "|     Deep Learning|  January 13, 1978|      John|       --|    10|   8|\n",
      "|  Machine Learning|  26 December 1989|    Marcus|   Carson|    15|   9|\n",
      "|           Physics|  30 December 1987|     Marta|   Brooks|    11|  10|\n",
      "|    Data Analytics|     June 12, 1975|     Holly| Schwartz|    12|  11|\n",
      "|  Computer Science|      July 2, 1985|     April|    Black|    11|  12|\n",
      "|  Computer Science|     July 22, 1980|     Irene|  Bradley|    13|  13|\n",
      "|        Psychology|   7 February 1986|      Mark|    Weber|    12|  14|\n",
      "|       Informatics|      May 18, 1987|     Rosie|   Norman|     9|  15|\n",
      "|          Business|   August 10, 1984|    Martin|   Steele|     7|  16|\n",
      "|  Machine Learning|  16 December 1990|     Colin| Martinez|     9|  17|\n",
      "|    Data Analytics|           unknown|   Bridget|    Twain|     6|  18|\n",
      "|          Business|      7 March 1980|   Darlene|    Mills|    19|  19|\n",
      "|    Data Analytics|      June 2, 1985|   Zachary|       --|    10|  20|\n",
      "+------------------+------------------+----------+---------+------+----+\n",
      "\n"
     ]
    }
   ],
   "source": [
    "df2 = df1.na.fill(value=\"--\",subset=[\"last_name\"])\n",
    "df2.show()"
   ]
  },
  {
   "cell_type": "markdown",
   "id": "1db71975",
   "metadata": {},
   "source": [
    "3. In the dob column, there exist several formats of dates, e.g. October 14, 1983 and 26 December 1989. Let’s convert all the dates into DD-MM-YYYY format where DD, MM and YYYY are two digits for day, two digits for months and four digits for year respectively. (2 points)"
   ]
  },
  {
   "cell_type": "code",
   "execution_count": 17,
   "id": "f8b7de6a",
   "metadata": {},
   "outputs": [],
   "source": [
    "from dateutil import parser\n",
    "from datetime import datetime\n",
    "import datetime"
   ]
  },
  {
   "cell_type": "markdown",
   "id": "5525c674",
   "metadata": {},
   "source": [
    "In this function below I convert the provided date format as \"%m-%d-%Y\" format and update the values in a new column name new_date. For those rows which have values as 'unknown' I returned \"1\" as their date of birth."
   ]
  },
  {
   "cell_type": "code",
   "execution_count": 21,
   "id": "e593bbf5",
   "metadata": {},
   "outputs": [],
   "source": [
    "def date(input):\n",
    "    if input == \"unknown\":\n",
    "        return \"1\"\n",
    "    else:\n",
    "        obj=str(parser.parse(input))\n",
    "        d = obj.split(\" \")\n",
    "        d = datetime.datetime.strptime(d[0], '%Y-%m-%d').strftime('%m-%d-%Y')\n",
    "        return d"
   ]
  },
  {
   "cell_type": "code",
   "execution_count": 22,
   "id": "81527b22",
   "metadata": {},
   "outputs": [],
   "source": [
    "from pyspark.sql import functions as F\n",
    "from pyspark.sql.functions import to_date\n",
    "from pyspark.sql.types import StringType"
   ]
  },
  {
   "cell_type": "code",
   "execution_count": 23,
   "id": "7b387707",
   "metadata": {},
   "outputs": [
    {
     "name": "stdout",
     "output_type": "stream",
     "text": [
      "+------------------+------------------+----------+---------+------+----+----------+\n",
      "|            course|               dob|first_name|last_name|points|s_id|  new_date|\n",
      "+------------------+------------------+----------+---------+------+----+----------+\n",
      "|Humanities and Art|  October 14, 1983|      Alan|      Joe|    10|   1|10-14-1983|\n",
      "|  Computer Science|September 26, 1980|    Martin|  Genberg|    17|   2|09-26-1980|\n",
      "|    Graphic Design|     June 12, 1982|     Athur|   Watson|    16|   3|06-12-1982|\n",
      "|    Graphic Design|     April 5, 1987|  Anabelle|  Sanberg|    12|   4|04-05-1987|\n",
      "|        Psychology|  November 1, 1978|      Kira| Schommer|    11|   5|11-01-1978|\n",
      "|          Business|  17 February 1981| Christian|   Kiriam|    10|   6|02-17-1981|\n",
      "|  Machine Learning|    1 January 1984|   Barbara|  Ballard|    14|   7|01-01-1984|\n",
      "|     Deep Learning|  January 13, 1978|      John|       --|    10|   8|01-13-1978|\n",
      "|  Machine Learning|  26 December 1989|    Marcus|   Carson|    15|   9|12-26-1989|\n",
      "|           Physics|  30 December 1987|     Marta|   Brooks|    11|  10|12-30-1987|\n",
      "|    Data Analytics|     June 12, 1975|     Holly| Schwartz|    12|  11|06-12-1975|\n",
      "|  Computer Science|      July 2, 1985|     April|    Black|    11|  12|07-02-1985|\n",
      "|  Computer Science|     July 22, 1980|     Irene|  Bradley|    13|  13|07-22-1980|\n",
      "|        Psychology|   7 February 1986|      Mark|    Weber|    12|  14|02-07-1986|\n",
      "|       Informatics|      May 18, 1987|     Rosie|   Norman|     9|  15|05-18-1987|\n",
      "|          Business|   August 10, 1984|    Martin|   Steele|     7|  16|08-10-1984|\n",
      "|  Machine Learning|  16 December 1990|     Colin| Martinez|     9|  17|12-16-1990|\n",
      "|    Data Analytics|           unknown|   Bridget|    Twain|     6|  18|         1|\n",
      "|          Business|      7 March 1980|   Darlene|    Mills|    19|  19|03-07-1980|\n",
      "|    Data Analytics|      June 2, 1985|   Zachary|       --|    10|  20|06-02-1985|\n",
      "+------------------+------------------+----------+---------+------+----+----------+\n",
      "\n"
     ]
    },
    {
     "name": "stderr",
     "output_type": "stream",
     "text": [
      "\r",
      "                                                                                \r"
     ]
    }
   ],
   "source": [
    "data = df2.withColumn(\"new_date\",  F.udf(date, StringType())(F.col(\"dob\")))\n",
    "data.show()"
   ]
  },
  {
   "cell_type": "markdown",
   "id": "d4df299d",
   "metadata": {},
   "source": [
    "4. Insert a new column age and calculate the current age of all students. (1 point)"
   ]
  },
  {
   "cell_type": "code",
   "execution_count": 27,
   "id": "a7f95d41",
   "metadata": {},
   "outputs": [],
   "source": [
    "from dateutil import relativedelta"
   ]
  },
  {
   "cell_type": "markdown",
   "id": "5fbb800e",
   "metadata": {},
   "source": [
    "In this function I calculate the current age of each student and store them in a new column Current_age. For those rows which have birthdate as \"1\" I didn't calculate the current age adn just returned a null value."
   ]
  },
  {
   "cell_type": "code",
   "execution_count": 32,
   "id": "7f6c5c61",
   "metadata": {},
   "outputs": [],
   "source": [
    " def calculateAge(birthDate):\n",
    "    \n",
    "    if birthDate == \"1\":\n",
    "#         print('this is 1')\n",
    "        return \"\"\n",
    "    else:\n",
    "        start_date = datetime.datetime.strptime(birthDate, '%m-%d-%Y')\n",
    "        today = datetime.datetime.today()\n",
    "        delta = relativedelta.relativedelta(today,start_date)\n",
    "        return delta.years"
   ]
  },
  {
   "cell_type": "code",
   "execution_count": 33,
   "id": "8082273f",
   "metadata": {},
   "outputs": [
    {
     "name": "stdout",
     "output_type": "stream",
     "text": [
      "+------------------+------------------+----------+---------+------+----+----------+-----------+\n",
      "|            course|               dob|first_name|last_name|points|s_id|  new_date|Current_age|\n",
      "+------------------+------------------+----------+---------+------+----+----------+-----------+\n",
      "|Humanities and Art|  October 14, 1983|      Alan|      Joe|    10|   1|10-14-1983|         38|\n",
      "|  Computer Science|September 26, 1980|    Martin|  Genberg|    17|   2|09-26-1980|         41|\n",
      "|    Graphic Design|     June 12, 1982|     Athur|   Watson|    16|   3|06-12-1982|         40|\n",
      "|    Graphic Design|     April 5, 1987|  Anabelle|  Sanberg|    12|   4|04-05-1987|         35|\n",
      "|        Psychology|  November 1, 1978|      Kira| Schommer|    11|   5|11-01-1978|         43|\n",
      "|          Business|  17 February 1981| Christian|   Kiriam|    10|   6|02-17-1981|         41|\n",
      "|  Machine Learning|    1 January 1984|   Barbara|  Ballard|    14|   7|01-01-1984|         38|\n",
      "|     Deep Learning|  January 13, 1978|      John|       --|    10|   8|01-13-1978|         44|\n",
      "|  Machine Learning|  26 December 1989|    Marcus|   Carson|    15|   9|12-26-1989|         32|\n",
      "|           Physics|  30 December 1987|     Marta|   Brooks|    11|  10|12-30-1987|         34|\n",
      "|    Data Analytics|     June 12, 1975|     Holly| Schwartz|    12|  11|06-12-1975|         47|\n",
      "|  Computer Science|      July 2, 1985|     April|    Black|    11|  12|07-02-1985|         37|\n",
      "|  Computer Science|     July 22, 1980|     Irene|  Bradley|    13|  13|07-22-1980|         41|\n",
      "|        Psychology|   7 February 1986|      Mark|    Weber|    12|  14|02-07-1986|         36|\n",
      "|       Informatics|      May 18, 1987|     Rosie|   Norman|     9|  15|05-18-1987|         35|\n",
      "|          Business|   August 10, 1984|    Martin|   Steele|     7|  16|08-10-1984|         37|\n",
      "|  Machine Learning|  16 December 1990|     Colin| Martinez|     9|  17|12-16-1990|         31|\n",
      "|    Data Analytics|           unknown|   Bridget|    Twain|     6|  18|         1|           |\n",
      "|          Business|      7 March 1980|   Darlene|    Mills|    19|  19|03-07-1980|         42|\n",
      "|    Data Analytics|      June 2, 1985|   Zachary|       --|    10|  20|06-02-1985|         37|\n",
      "+------------------+------------------+----------+---------+------+----+----------+-----------+\n",
      "\n"
     ]
    }
   ],
   "source": [
    "data1 = data.withColumn(\"Current_age\",  F.udf(calculateAge, StringType())(F.col(\"new_date\")))\n",
    "data1.show()"
   ]
  },
  {
   "cell_type": "code",
   "execution_count": 35,
   "id": "d853942c",
   "metadata": {},
   "outputs": [
    {
     "name": "stdout",
     "output_type": "stream",
     "text": [
      "The standard deviation of the points column is  3.246050231475656\n"
     ]
    }
   ],
   "source": [
    "sd = data1.agg({'points': 'stddev'}).collect()\n",
    "print(\"The standard deviation of the points column is \",sd[0][0])"
   ]
  },
  {
   "cell_type": "code",
   "execution_count": 37,
   "id": "855ffb5f",
   "metadata": {},
   "outputs": [
    {
     "name": "stdout",
     "output_type": "stream",
     "text": [
      "The mean of the points column is  11.7\n"
     ]
    }
   ],
   "source": [
    "mean = data1.agg({'points': 'mean'}).collect()\n",
    "print(\"The mean of the points column is \",mean[0][0])"
   ]
  },
  {
   "cell_type": "markdown",
   "id": "ba9d2ff6",
   "metadata": {},
   "source": [
    "5. Let’s consider granting some points for good performed students in the class. For each student, if his point is larger than 1 standard deviation of all points, then we update his current point to 20, which is the maximum. See Annex 1 for a tutorial on how to calculate standard deviation. (2 points)"
   ]
  },
  {
   "cell_type": "code",
   "execution_count": 39,
   "id": "9729b596",
   "metadata": {},
   "outputs": [],
   "source": [
    "std_1 = mean[0][0]+sd[0][0]\n",
    "std_2 = mean[0][0]-sd[0][0]"
   ]
  },
  {
   "cell_type": "markdown",
   "id": "9d5f3c61",
   "metadata": {},
   "source": [
    "Here for each student, I check if his point is larger than 1 standard deviation of all points, then I update his current point to 20."
   ]
  },
  {
   "cell_type": "code",
   "execution_count": 41,
   "id": "4bf67fc2",
   "metadata": {},
   "outputs": [
    {
     "name": "stdout",
     "output_type": "stream",
     "text": [
      "+------------------+------------------+----------+---------+------+----+----------+-----------+\n",
      "|            course|               dob|first_name|last_name|points|s_id|  new_date|Current_age|\n",
      "+------------------+------------------+----------+---------+------+----+----------+-----------+\n",
      "|Humanities and Art|  October 14, 1983|      Alan|      Joe|    10|   1|10-14-1983|         38|\n",
      "|  Computer Science|September 26, 1980|    Martin|  Genberg|    20|   2|09-26-1980|         41|\n",
      "|    Graphic Design|     June 12, 1982|     Athur|   Watson|    20|   3|06-12-1982|         40|\n",
      "|    Graphic Design|     April 5, 1987|  Anabelle|  Sanberg|    12|   4|04-05-1987|         35|\n",
      "|        Psychology|  November 1, 1978|      Kira| Schommer|    11|   5|11-01-1978|         43|\n",
      "|          Business|  17 February 1981| Christian|   Kiriam|    10|   6|02-17-1981|         41|\n",
      "|  Machine Learning|    1 January 1984|   Barbara|  Ballard|    14|   7|01-01-1984|         38|\n",
      "|     Deep Learning|  January 13, 1978|      John|       --|    10|   8|01-13-1978|         44|\n",
      "|  Machine Learning|  26 December 1989|    Marcus|   Carson|    20|   9|12-26-1989|         32|\n",
      "|           Physics|  30 December 1987|     Marta|   Brooks|    11|  10|12-30-1987|         34|\n",
      "|    Data Analytics|     June 12, 1975|     Holly| Schwartz|    12|  11|06-12-1975|         47|\n",
      "|  Computer Science|      July 2, 1985|     April|    Black|    11|  12|07-02-1985|         37|\n",
      "|  Computer Science|     July 22, 1980|     Irene|  Bradley|    13|  13|07-22-1980|         41|\n",
      "|        Psychology|   7 February 1986|      Mark|    Weber|    12|  14|02-07-1986|         36|\n",
      "|       Informatics|      May 18, 1987|     Rosie|   Norman|     9|  15|05-18-1987|         35|\n",
      "|          Business|   August 10, 1984|    Martin|   Steele|     7|  16|08-10-1984|         37|\n",
      "|  Machine Learning|  16 December 1990|     Colin| Martinez|     9|  17|12-16-1990|         31|\n",
      "|    Data Analytics|           unknown|   Bridget|    Twain|     6|  18|         1|           |\n",
      "|          Business|      7 March 1980|   Darlene|    Mills|    20|  19|03-07-1980|         42|\n",
      "|    Data Analytics|      June 2, 1985|   Zachary|       --|    10|  20|06-02-1985|         37|\n",
      "+------------------+------------------+----------+---------+------+----+----------+-----------+\n",
      "\n"
     ]
    }
   ],
   "source": [
    "from pyspark.sql.functions import when\n",
    "df3 = data1.withColumn(\"points\", when(data1.points>std_1,20).otherwise(data1.points))\n",
    "df3.show()\n"
   ]
  },
  {
   "cell_type": "markdown",
   "id": "60b9fb27",
   "metadata": {},
   "source": [
    "6. Create a histogram on the new points created in the task 5. (1 point)"
   ]
  },
  {
   "cell_type": "code",
   "execution_count": 42,
   "id": "9ce29c32",
   "metadata": {},
   "outputs": [
    {
     "name": "stdout",
     "output_type": "stream",
     "text": [
      "[10, 20, 20, 12, 11, 10, 14, 10, 20, 11, 12, 11, 13, 12, 9, 7, 9, 6, 20, 10]\n",
      "[1, 2, 3, 4, 5, 6, 7, 8, 9, 10, 11, 12, 13, 14, 15, 16, 17, 18, 19, 20]\n"
     ]
    },
    {
     "data": {
      "image/png": "[encoded data removed]",
      "text/plain": [
       "<Figure size 432x288 with 1 Axes>"
      ]
     },
     "metadata": {
      "needs_background": "light"
     },
     "output_type": "display_data"
    }
   ],
   "source": [
    "import numpy as np\n",
    "import matplotlib.pyplot as plt\n",
    "points=[]\n",
    "points_array = np.array(df3.select('points').collect())\n",
    "# points_array\n",
    "for value in points_array:\n",
    "    points.append(value[0])\n",
    "print(points)\n",
    "student_id=[]    \n",
    "id_array = np.array(df3.select('s_id').collect())\n",
    "# points_array\n",
    "for value in id_array:\n",
    "    student_id.append(value[0])\n",
    "print(student_id)\n",
    "    \n",
    "plt.hist(points)\n",
    "# plt.xlabel(\"sd_id\")\n",
    "plt.ylabel(\"points\")\n",
    "plt.show()"
   ]
  },
  {
   "cell_type": "code",
   "execution_count": null,
   "id": "e49fd656",
   "metadata": {},
   "outputs": [],
   "source": []
  }
 ],
 "metadata": {
  "kernelspec": {
   "display_name": "Python 3 (ipykernel)",
   "language": "python",
   "name": "python3"
  },
  "language_info": {
   "codemirror_mode": {
    "name": "ipython",
    "version": 3
   },
   "file_extension": ".py",
   "mimetype": "text/x-python",
   "name": "python",
   "nbconvert_exporter": "python",
   "pygments_lexer": "ipython3",
   "version": "3.9.13"
  }
 },
 "nbformat": 4,
 "nbformat_minor": 5
}
