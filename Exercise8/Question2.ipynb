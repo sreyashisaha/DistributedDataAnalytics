{
 "cells": [
  {
   "cell_type": "markdown",
   "id": "fa98114d",
   "metadata": {},
   "source": [
    "# Exercise 2\n",
    "\n",
    "First importing all the libraries required for Spark session in python. A SparkContext represents the connection to a Spark cluster, and is used to create RDDs, accumulators and broadcast variables on that cluster. The sql function on a SQLContext enables applications to run SQL queries programmatically and returns the result as a DataFrame ."
   ]
  },
  {
   "cell_type": "code",
   "execution_count": 1,
   "id": "9127da2e",
   "metadata": {},
   "outputs": [
    {
     "name": "stderr",
     "output_type": "stream",
     "text": [
      "Setting default log level to \"WARN\".\n",
      "To adjust logging level use sc.setLogLevel(newLevel). For SparkR, use setLogLevel(newLevel).\n"
     ]
    },
    {
     "name": "stdout",
     "output_type": "stream",
     "text": [
      "22/07/03 08:32:12 WARN NativeCodeLoader: Unable to load native-hadoop library for your platform... using builtin-java classes where applicable\n",
      "22/07/03 08:32:13 WARN Utils: Service 'SparkUI' could not bind on port 4040. Attempting port 4041.\n",
      "22/07/03 08:32:13 WARN Utils: Service 'SparkUI' could not bind on port 4041. Attempting port 4042.\n",
      "22/07/03 08:32:13 WARN Utils: Service 'SparkUI' could not bind on port 4042. Attempting port 4043.\n",
      "22/07/03 08:32:13 WARN Utils: Service 'SparkUI' could not bind on port 4043. Attempting port 4044.\n",
      "22/07/03 08:32:13 WARN Utils: Service 'SparkUI' could not bind on port 4044. Attempting port 4045.\n",
      "22/07/03 08:32:13 WARN Utils: Service 'SparkUI' could not bind on port 4045. Attempting port 4046.\n",
      "22/07/03 08:32:13 WARN Utils: Service 'SparkUI' could not bind on port 4046. Attempting port 4047.\n"
     ]
    },
    {
     "name": "stderr",
     "output_type": "stream",
     "text": [
      "/opt/homebrew/lib/python3.9/site-packages/pyspark/sql/context.py:112: FutureWarning: Deprecated in 3.0.0. Use SparkSession.builder.getOrCreate() instead.\n",
      "  warnings.warn(\n"
     ]
    }
   ],
   "source": [
    "import pyspark\n",
    "from pyspark import SparkContext\n",
    "sc =SparkContext()\n",
    "from pyspark.sql import Row\n",
    "from pyspark.sql import SQLContext\n",
    "\n",
    "sqlContext = SQLContext(sc)\n",
    "from pyspark.sql import SparkSession"
   ]
  },
  {
   "cell_type": "markdown",
   "id": "e63cc824",
   "metadata": {},
   "source": [
    "A SparkSession can be used create DataFrame, register DataFrame as tables, execute SQL over tables, cache tables, and read data files. Class builder is Builder for SparkSession. appName() sets a name for the application, which will be shown in the Spark web UI. If no application name is set, a randomly generated name will be used. getOrCreate() gets an existing SparkSession or, if there is no existing one, creates a new one based on the options set in this builder.\n",
    "\n",
    "Using spark.read.csv(\"path\") we can read a CSV file with fields delimited by pipe, comma, tab (and many more) into a Spark DataFrame, These methods take a file path to read from as an argument."
   ]
  },
  {
   "cell_type": "code",
   "execution_count": 2,
   "id": "1c731302",
   "metadata": {},
   "outputs": [
    {
     "name": "stdout",
     "output_type": "stream",
     "text": [
      "22/07/03 08:32:21 WARN SparkSession: Using an existing Spark session; only runtime SQL configurations will take effect.\n"
     ]
    },
    {
     "name": "stderr",
     "output_type": "stream",
     "text": [
      "                                                                                \r"
     ]
    },
    {
     "name": "stdout",
     "output_type": "stream",
     "text": [
      "+------+-------+---------------+----------+\n",
      "|UserID|MovieID|            Tag| Timestamp|\n",
      "+------+-------+---------------+----------+\n",
      "|    15|   4973|     excellent!|1215184630|\n",
      "|    20|   1747|       politics|1188263867|\n",
      "|    20|   1747|         satire|1188263867|\n",
      "|    20|   2424|chick flick 212|1188263835|\n",
      "|    20|   2424|          hanks|1188263835|\n",
      "+------+-------+---------------+----------+\n",
      "only showing top 5 rows\n",
      "\n"
     ]
    }
   ],
   "source": [
    "spark = SparkSession.builder.appName(\n",
    "    'Read CSV File into DataFrame').getOrCreate()\n",
    " \n",
    "data = spark.read.csv('ml-10M100K-2/tags.dat', sep='||',inferSchema=True, header=True)\n",
    "\n",
    "# Show the first 5 values of the dataframe\n",
    "data.show(5)"
   ]
  },
  {
   "cell_type": "code",
   "execution_count": 3,
   "id": "f92f4111",
   "metadata": {},
   "outputs": [],
   "source": [
    "from pyspark import SparkFiles\n",
    "from pyspark.sql.functions import col"
   ]
  },
  {
   "cell_type": "code",
   "execution_count": 4,
   "id": "5af58f25",
   "metadata": {
    "scrolled": true
   },
   "outputs": [
    {
     "name": "stdout",
     "output_type": "stream",
     "text": [
      "+------+-------+--------------------+----------+\n",
      "|UserID|MovieID|                 Tag| Timestamp|\n",
      "+------+-------+--------------------+----------+\n",
      "| 19106|   1247|       mrs. robinson|1135313387|\n",
      "| 19106|    145|           car chase|1135313403|\n",
      "| 19106|   3481|          jack black|1135313411|\n",
      "| 19106|   3481|               funny|1135313411|\n",
      "| 19106|  34405|the man they call...|1135313453|\n",
      "| 19106|   1396|    too many secrets|1135313492|\n",
      "| 71331|   1396|     setec astronomy|1135361580|\n",
      "| 22198|   2788|        monty python|1135429210|\n",
      "| 22198|   1732|       coen brothers|1135429236|\n",
      "| 22198|   1206|     stanley kubrick|1135429248|\n",
      "+------+-------+--------------------+----------+\n",
      "only showing top 10 rows\n",
      "\n"
     ]
    }
   ],
   "source": [
    "# Ordering or Sorting the dataframe base din Timestamp column \n",
    "data.orderBy(col(\"Timestamp\").asc()).show(10)"
   ]
  },
  {
   "cell_type": "code",
   "execution_count": 8,
   "id": "c32b28f0",
   "metadata": {},
   "outputs": [],
   "source": [
    "# In order to convert timestamp to readable date we import this in built library \n",
    "from datetime import datetime\n"
   ]
  },
  {
   "cell_type": "markdown",
   "id": "d7902cee",
   "metadata": {},
   "source": [
    "In this function I take my timestamp value from the dataframe which is in string and convert it into integer. After that I use datetime.utcfromtimestamp().strftime() function to convert the time stamp into a format as day-month-Year Hours:Minutes:Seconds. Then I return this readable date."
   ]
  },
  {
   "cell_type": "code",
   "execution_count": 9,
   "id": "9bcef001",
   "metadata": {},
   "outputs": [],
   "source": [
    "def date_time(timestamp):\n",
    "    timesatmp = int (timestamp)\n",
    "    date = datetime.utcfromtimestamp(timesatmp).strftime('%d-%m-%Y %H:%M:%S')\n",
    "    return date                                                 "
   ]
  },
  {
   "cell_type": "code",
   "execution_count": 10,
   "id": "fa2e419f",
   "metadata": {},
   "outputs": [
    {
     "data": {
      "text/plain": [
       "'24-12-2005 13:00:36'"
      ]
     },
     "execution_count": 10,
     "metadata": {},
     "output_type": "execute_result"
    }
   ],
   "source": [
    "date_time(\"1135429236\")"
   ]
  },
  {
   "cell_type": "code",
   "execution_count": 11,
   "id": "7f819ac9",
   "metadata": {},
   "outputs": [],
   "source": [
    "from pyspark.sql import functions as F\n",
    "from pyspark.sql.functions import to_date\n",
    "from pyspark.sql.types import StringType"
   ]
  },
  {
   "cell_type": "markdown",
   "id": "88c2774e",
   "metadata": {},
   "source": [
    "In the code below I have taken the Timestamp column and performed the timestamp to date conversion by calling my user defined program date_time and saved the returned value from the function in a separate column named as Date_Time. We can see that we have obtained a new coolumn which contains the new readable date and time."
   ]
  },
  {
   "cell_type": "code",
   "execution_count": 12,
   "id": "1cbcb7ae",
   "metadata": {},
   "outputs": [
    {
     "name": "stderr",
     "output_type": "stream",
     "text": [
      "\r",
      "[Stage 3:>                                                          (0 + 1) / 1]\r"
     ]
    },
    {
     "name": "stdout",
     "output_type": "stream",
     "text": [
      "+------+-------+--------------------+----------+-------------------+\n",
      "|UserID|MovieID|                 Tag| Timestamp|          Date_Time|\n",
      "+------+-------+--------------------+----------+-------------------+\n",
      "|    15|   4973|          excellent!|1215184630|04-07-2008 15:17:10|\n",
      "|    20|   1747|            politics|1188263867|28-08-2007 01:17:47|\n",
      "|    20|   1747|              satire|1188263867|28-08-2007 01:17:47|\n",
      "|    20|   2424|     chick flick 212|1188263835|28-08-2007 01:17:15|\n",
      "|    20|   2424|               hanks|1188263835|28-08-2007 01:17:15|\n",
      "|    20|   2424|                ryan|1188263835|28-08-2007 01:17:15|\n",
      "|    20|   2947|              action|1188263755|28-08-2007 01:15:55|\n",
      "|    20|   2947|                bond|1188263756|28-08-2007 01:15:56|\n",
      "|    20|   3033|               spoof|1188263880|28-08-2007 01:18:00|\n",
      "|    20|   3033|           star wars|1188263880|28-08-2007 01:18:00|\n",
      "|    20|   7438|              bloody|1188263801|28-08-2007 01:16:41|\n",
      "|    20|   7438|             kung fu|1188263801|28-08-2007 01:16:41|\n",
      "|    20|   7438|           Tarantino|1188263801|28-08-2007 01:16:41|\n",
      "|    21|  55247|                   R|1205081506|09-03-2008 16:51:46|\n",
      "|    21|  55253|               NC-17|1205081488|09-03-2008 16:51:28|\n",
      "|    25|     50|        Kevin Spacey|1166101426|14-12-2006 13:03:46|\n",
      "|    25|   6709|         Johnny Depp|1162147221|29-10-2006 18:40:21|\n",
      "|    31|     65|        buddy comedy|1188263759|28-08-2007 01:15:59|\n",
      "|    31|    546|strangely compelling|1188263674|28-08-2007 01:14:34|\n",
      "|    31|   1091|         catastrophe|1188263741|28-08-2007 01:15:41|\n",
      "+------+-------+--------------------+----------+-------------------+\n",
      "only showing top 20 rows\n",
      "\n"
     ]
    },
    {
     "name": "stderr",
     "output_type": "stream",
     "text": [
      "\r",
      "                                                                                \r"
     ]
    }
   ],
   "source": [
    "data1 = data.withColumn(\"Date_Time\",  F.udf(date_time, StringType())(F.col(\"Timestamp\")))\n",
    "data1.show()"
   ]
  },
  {
   "cell_type": "markdown",
   "id": "60613162",
   "metadata": {},
   "source": [
    "1. A tagging session for a user can be defined as the duration in which he/she generated tagging activities. Typically, an inactive duration of 30 mins is considered as a termination of the tagging session. Your task is to separate out tagging sessions for each user."
   ]
  },
  {
   "cell_type": "code",
   "execution_count": 14,
   "id": "99b5ddfc",
   "metadata": {},
   "outputs": [],
   "source": [
    "from pyspark.sql import Window"
   ]
  },
  {
   "cell_type": "markdown",
   "id": "10f5dd43",
   "metadata": {},
   "source": [
    "PYSPARK LAG is a function in PySpark that works as the offset row returning the value of the before row of a column with respect to the current row in PySpark. This is an operation in PySpark that returns the row just before the current row. Here I have used lag in the timestamp column and partitioned by the userIds. Here I get the previous timestamp for each userid."
   ]
  },
  {
   "cell_type": "code",
   "execution_count": 28,
   "id": "1e54d473",
   "metadata": {},
   "outputs": [],
   "source": [
    "data1 = data1.withColumn(\n",
    "    \"session_id\",\n",
    "    F.lag(\"Timestamp\",1).over(Window.partitionBy(\"UserID\").orderBy(\"Timestamp\")),\n",
    ")"
   ]
  },
  {
   "cell_type": "code",
   "execution_count": 29,
   "id": "5a7c7db6",
   "metadata": {
    "scrolled": false
   },
   "outputs": [
    {
     "name": "stderr",
     "output_type": "stream",
     "text": [
      "\r",
      "[Stage 37:>                                                         (0 + 1) / 1]\r"
     ]
    },
    {
     "name": "stdout",
     "output_type": "stream",
     "text": [
      "+------+-------+---------------+----------+-------------------+----------+\n",
      "|UserID|MovieID|            Tag| Timestamp|          Date_Time|session_id|\n",
      "+------+-------+---------------+----------+-------------------+----------+\n",
      "|    20|   2947|         action|1188263755|28-08-2007 01:15:55|      null|\n",
      "|    20|   2947|           bond|1188263756|28-08-2007 01:15:56|1188263755|\n",
      "|    20|   7438|         bloody|1188263801|28-08-2007 01:16:41|1188263756|\n",
      "|    20|   7438|        kung fu|1188263801|28-08-2007 01:16:41|1188263801|\n",
      "|    20|   7438|      Tarantino|1188263801|28-08-2007 01:16:41|1188263801|\n",
      "|    20|   2424|chick flick 212|1188263835|28-08-2007 01:17:15|1188263801|\n",
      "|    20|   2424|          hanks|1188263835|28-08-2007 01:17:15|1188263835|\n",
      "|    20|   2424|           ryan|1188263835|28-08-2007 01:17:15|1188263835|\n",
      "|    20|   1747|       politics|1188263867|28-08-2007 01:17:47|1188263835|\n",
      "|    20|   1747|         satire|1188263867|28-08-2007 01:17:47|1188263867|\n",
      "+------+-------+---------------+----------+-------------------+----------+\n",
      "only showing top 10 rows\n",
      "\n"
     ]
    },
    {
     "name": "stderr",
     "output_type": "stream",
     "text": [
      "\r",
      "                                                                                \r"
     ]
    }
   ],
   "source": [
    "data1.show(10)"
   ]
  },
  {
   "cell_type": "markdown",
   "id": "4e0d3ef5",
   "metadata": {},
   "source": [
    "Define if the session is the 1st one (more than 1800s after the previous one). Here I subtract the timestamps from the timestamp column and session id column created and check it it is less than 1800 seconds or 30 minutes. If it is less then I assign it as 0 or else I assign it as 1.\n"
   ]
  },
  {
   "cell_type": "code",
   "execution_count": 30,
   "id": "63c57228",
   "metadata": {},
   "outputs": [],
   "source": [
    "df = data1.withColumn(\"session_id\",\n",
    "    F.when(F.col(\"Timestamp\") - F.col(\"session_id\") <= 1800, 0).otherwise(1),\n",
    ")"
   ]
  },
  {
   "cell_type": "code",
   "execution_count": 31,
   "id": "7d01107f",
   "metadata": {
    "scrolled": false
   },
   "outputs": [
    {
     "name": "stderr",
     "output_type": "stream",
     "text": [
      "\r",
      "[Stage 40:>                                                         (0 + 1) / 1]\r"
     ]
    },
    {
     "name": "stdout",
     "output_type": "stream",
     "text": [
      "+------+-------+---------------+----------+-------------------+----------+\n",
      "|UserID|MovieID|            Tag| Timestamp|          Date_Time|session_id|\n",
      "+------+-------+---------------+----------+-------------------+----------+\n",
      "|    20|   2947|         action|1188263755|28-08-2007 01:15:55|         1|\n",
      "|    20|   2947|           bond|1188263756|28-08-2007 01:15:56|         0|\n",
      "|    20|   7438|         bloody|1188263801|28-08-2007 01:16:41|         0|\n",
      "|    20|   7438|        kung fu|1188263801|28-08-2007 01:16:41|         0|\n",
      "|    20|   7438|      Tarantino|1188263801|28-08-2007 01:16:41|         0|\n",
      "|    20|   2424|chick flick 212|1188263835|28-08-2007 01:17:15|         0|\n",
      "|    20|   2424|          hanks|1188263835|28-08-2007 01:17:15|         0|\n",
      "|    20|   2424|           ryan|1188263835|28-08-2007 01:17:15|         0|\n",
      "|    20|   1747|       politics|1188263867|28-08-2007 01:17:47|         0|\n",
      "|    20|   1747|         satire|1188263867|28-08-2007 01:17:47|         0|\n",
      "+------+-------+---------------+----------+-------------------+----------+\n",
      "only showing top 10 rows\n",
      "\n"
     ]
    },
    {
     "name": "stderr",
     "output_type": "stream",
     "text": [
      "\r",
      "                                                                                \r"
     ]
    }
   ],
   "source": [
    "df.show(10)"
   ]
  },
  {
   "cell_type": "markdown",
   "id": "4e7982ea",
   "metadata": {},
   "source": [
    "Here I find out the unique session id based on the above result. So basically I sum over the session Id column and partiotion by User Id and again order by the timestamp column. Note that we can get same ids for different users."
   ]
  },
  {
   "cell_type": "code",
   "execution_count": 32,
   "id": "cda9bb81",
   "metadata": {},
   "outputs": [],
   "source": [
    "# create a unique id per session\n",
    "df = df.withColumn(\n",
    "    \"session_id\",\n",
    "    F.sum(\"session_id\").over(Window.partitionBy(\"userid\").orderBy(\"timestamp\")),\n",
    ")"
   ]
  },
  {
   "cell_type": "code",
   "execution_count": 33,
   "id": "6d80f697",
   "metadata": {
    "scrolled": false
   },
   "outputs": [
    {
     "name": "stderr",
     "output_type": "stream",
     "text": [
      "\r",
      "[Stage 43:>                                                         (0 + 1) / 1]\r"
     ]
    },
    {
     "name": "stdout",
     "output_type": "stream",
     "text": [
      "+------+-------+---------------+----------+-------------------+----------+\n",
      "|UserID|MovieID|            Tag| Timestamp|          Date_Time|session_id|\n",
      "+------+-------+---------------+----------+-------------------+----------+\n",
      "|    20|   2947|         action|1188263755|28-08-2007 01:15:55|         1|\n",
      "|    20|   2947|           bond|1188263756|28-08-2007 01:15:56|         1|\n",
      "|    20|   7438|         bloody|1188263801|28-08-2007 01:16:41|         1|\n",
      "|    20|   7438|        kung fu|1188263801|28-08-2007 01:16:41|         1|\n",
      "|    20|   7438|      Tarantino|1188263801|28-08-2007 01:16:41|         1|\n",
      "|    20|   2424|chick flick 212|1188263835|28-08-2007 01:17:15|         1|\n",
      "|    20|   2424|          hanks|1188263835|28-08-2007 01:17:15|         1|\n",
      "|    20|   2424|           ryan|1188263835|28-08-2007 01:17:15|         1|\n",
      "|    20|   1747|       politics|1188263867|28-08-2007 01:17:47|         1|\n",
      "|    20|   1747|         satire|1188263867|28-08-2007 01:17:47|         1|\n",
      "+------+-------+---------------+----------+-------------------+----------+\n",
      "only showing top 10 rows\n",
      "\n"
     ]
    },
    {
     "name": "stderr",
     "output_type": "stream",
     "text": [
      "\r",
      "                                                                                \r"
     ]
    }
   ],
   "source": [
    "df.show(10)"
   ]
  },
  {
   "cell_type": "markdown",
   "id": "29ceb4a8",
   "metadata": {},
   "source": [
    "In the code below I finally create a unique id per session per user where F.dense_rank() returns the rank of rows within a window partition without any gaps."
   ]
  },
  {
   "cell_type": "code",
   "execution_count": 34,
   "id": "117bd48a",
   "metadata": {},
   "outputs": [],
   "source": [
    "df = df.withColumn(\n",
    "    \"session_id\", F.dense_rank().over(Window.orderBy(\"userid\", \"session_id\"))\n",
    ")"
   ]
  },
  {
   "cell_type": "code",
   "execution_count": 36,
   "id": "31d3cdc0",
   "metadata": {
    "scrolled": false
   },
   "outputs": [
    {
     "name": "stdout",
     "output_type": "stream",
     "text": [
      "22/07/03 10:19:04 WARN WindowExec: No Partition Defined for Window operation! Moving all data to a single partition, this can cause serious performance degradation.\n",
      "22/07/03 10:19:04 WARN WindowExec: No Partition Defined for Window operation! Moving all data to a single partition, this can cause serious performance degradation.\n",
      "22/07/03 10:19:04 WARN WindowExec: No Partition Defined for Window operation! Moving all data to a single partition, this can cause serious performance degradation.\n"
     ]
    },
    {
     "name": "stderr",
     "output_type": "stream",
     "text": [
      "[Stage 47:>                                                         (0 + 1) / 1]\r"
     ]
    },
    {
     "name": "stdout",
     "output_type": "stream",
     "text": [
      "22/07/03 10:19:06 WARN WindowExec: No Partition Defined for Window operation! Moving all data to a single partition, this can cause serious performance degradation.\n",
      "22/07/03 10:19:06 WARN WindowExec: No Partition Defined for Window operation! Moving all data to a single partition, this can cause serious performance degradation.\n",
      "22/07/03 10:19:06 WARN WindowExec: No Partition Defined for Window operation! Moving all data to a single partition, this can cause serious performance degradation.\n"
     ]
    },
    {
     "name": "stderr",
     "output_type": "stream",
     "text": [
      "[Stage 47:>                                                         (0 + 1) / 1]\r"
     ]
    },
    {
     "name": "stdout",
     "output_type": "stream",
     "text": [
      "22/07/03 10:19:13 WARN WindowExec: No Partition Defined for Window operation! Moving all data to a single partition, this can cause serious performance degradation.\n",
      "22/07/03 10:19:13 WARN WindowExec: No Partition Defined for Window operation! Moving all data to a single partition, this can cause serious performance degradation.\n",
      "22/07/03 10:19:13 WARN WindowExec: No Partition Defined for Window operation! Moving all data to a single partition, this can cause serious performance degradation.\n",
      "+------+-------+---------------+----------+-------------------+----------+\n",
      "|UserID|MovieID|            Tag| Timestamp|          Date_Time|session_id|\n",
      "+------+-------+---------------+----------+-------------------+----------+\n",
      "|    15|   4973|     excellent!|1215184630|04-07-2008 15:17:10|         1|\n",
      "|    20|   2947|         action|1188263755|28-08-2007 01:15:55|         2|\n",
      "|    20|   2947|           bond|1188263756|28-08-2007 01:15:56|         2|\n",
      "|    20|   7438|         bloody|1188263801|28-08-2007 01:16:41|         2|\n",
      "|    20|   7438|        kung fu|1188263801|28-08-2007 01:16:41|         2|\n",
      "|    20|   7438|      Tarantino|1188263801|28-08-2007 01:16:41|         2|\n",
      "|    20|   2424|chick flick 212|1188263835|28-08-2007 01:17:15|         2|\n",
      "|    20|   2424|          hanks|1188263835|28-08-2007 01:17:15|         2|\n",
      "|    20|   2424|           ryan|1188263835|28-08-2007 01:17:15|         2|\n",
      "|    20|   1747|       politics|1188263867|28-08-2007 01:17:47|         2|\n",
      "+------+-------+---------------+----------+-------------------+----------+\n",
      "only showing top 10 rows\n",
      "\n"
     ]
    },
    {
     "name": "stderr",
     "output_type": "stream",
     "text": [
      "\r",
      "                                                                                \r"
     ]
    }
   ],
   "source": [
    "df.show(10)"
   ]
  },
  {
   "cell_type": "markdown",
   "id": "dfcda517",
   "metadata": {},
   "source": [
    "2. Once you have all the tagging sessions for each user, calculate the frequency of tagging for each user session."
   ]
  },
  {
   "cell_type": "code",
   "execution_count": 37,
   "id": "7185dc66",
   "metadata": {},
   "outputs": [
    {
     "name": "stdout",
     "output_type": "stream",
     "text": [
      "22/07/03 10:19:19 WARN WindowExec: No Partition Defined for Window operation! Moving all data to a single partition, this can cause serious performance degradation.\n",
      "22/07/03 10:19:19 WARN WindowExec: No Partition Defined for Window operation! Moving all data to a single partition, this can cause serious performance degradation.\n",
      "22/07/03 10:19:19 WARN WindowExec: No Partition Defined for Window operation! Moving all data to a single partition, this can cause serious performance degradation.\n",
      "22/07/03 10:19:19 WARN WindowExec: No Partition Defined for Window operation! Moving all data to a single partition, this can cause serious performance degradation.\n",
      "22/07/03 10:19:20 WARN WindowExec: No Partition Defined for Window operation! Moving all data to a single partition, this can cause serious performance degradation.\n",
      "22/07/03 10:19:20 WARN WindowExec: No Partition Defined for Window operation! Moving all data to a single partition, this can cause serious performance degradation.\n",
      "+------+----------+-----+\n",
      "|UserID|session_id|count|\n",
      "+------+----------+-----+\n",
      "|    15|         1|    1|\n",
      "|    20|         2|   12|\n",
      "|    21|         3|    2|\n",
      "|    25|         4|    1|\n",
      "|    25|         5|    1|\n",
      "|    31|         6|    5|\n",
      "|    32|         7|    1|\n",
      "|    39|         8|    5|\n",
      "|    48|         9|    2|\n",
      "|    49|        10|   15|\n",
      "|    75|        11|    1|\n",
      "|    78|        12|    1|\n",
      "|   109|        13|   11|\n",
      "|   109|        14|    2|\n",
      "|   109|        15|    3|\n",
      "|   109|        16|    1|\n",
      "|   109|        17|    1|\n",
      "|   109|        18|    1|\n",
      "|   109|        19|    4|\n",
      "|   109|        20|    1|\n",
      "+------+----------+-----+\n",
      "only showing top 20 rows\n",
      "\n"
     ]
    }
   ],
   "source": [
    "# Here I have obtained the frequency of tagging for each user session\n",
    "df1 = df.groupBy(['UserID','session_id']).count()\n",
    "df1.show()"
   ]
  },
  {
   "cell_type": "markdown",
   "id": "e7a703b8",
   "metadata": {},
   "source": [
    "3. Find a mean and standard deviation of the tagging frequency of each user."
   ]
  },
  {
   "cell_type": "code",
   "execution_count": 40,
   "id": "85e4e917",
   "metadata": {
    "scrolled": false
   },
   "outputs": [
    {
     "name": "stdout",
     "output_type": "stream",
     "text": [
      "22/07/03 10:20:43 WARN WindowExec: No Partition Defined for Window operation! Moving all data to a single partition, this can cause serious performance degradation.\n",
      "22/07/03 10:20:43 WARN WindowExec: No Partition Defined for Window operation! Moving all data to a single partition, this can cause serious performance degradation.\n",
      "22/07/03 10:20:43 WARN WindowExec: No Partition Defined for Window operation! Moving all data to a single partition, this can cause serious performance degradation.\n",
      "22/07/03 10:20:43 WARN WindowExec: No Partition Defined for Window operation! Moving all data to a single partition, this can cause serious performance degradation.\n",
      "22/07/03 10:20:44 WARN WindowExec: No Partition Defined for Window operation! Moving all data to a single partition, this can cause serious performance degradation.\n",
      "22/07/03 10:20:44 WARN WindowExec: No Partition Defined for Window operation! Moving all data to a single partition, this can cause serious performance degradation.\n",
      "+------+----------+----------+\n",
      "|UserID|session_id|avg(count)|\n",
      "+------+----------+----------+\n",
      "|    15|         1|       1.0|\n",
      "|    20|         2|      12.0|\n",
      "|    21|         3|       2.0|\n",
      "|    25|         4|       1.0|\n",
      "|    25|         5|       1.0|\n",
      "|    31|         6|       5.0|\n",
      "|    32|         7|       1.0|\n",
      "|    39|         8|       5.0|\n",
      "|    48|         9|       2.0|\n",
      "|    49|        10|      15.0|\n",
      "|    75|        11|       1.0|\n",
      "|    78|        12|       1.0|\n",
      "|   109|        13|      11.0|\n",
      "|   109|        14|       2.0|\n",
      "|   109|        15|       3.0|\n",
      "|   109|        16|       1.0|\n",
      "|   109|        17|       1.0|\n",
      "|   109|        18|       1.0|\n",
      "|   109|        19|       4.0|\n",
      "|   109|        20|       1.0|\n",
      "+------+----------+----------+\n",
      "only showing top 20 rows\n",
      "\n"
     ]
    }
   ],
   "source": [
    "df2 = df1.groupBy('UserID','session_id').agg({'count': 'mean'})\n",
    "df2.show()"
   ]
  },
  {
   "cell_type": "code",
   "execution_count": 41,
   "id": "11216bb0",
   "metadata": {},
   "outputs": [
    {
     "name": "stdout",
     "output_type": "stream",
     "text": [
      "22/07/03 10:21:03 WARN WindowExec: No Partition Defined for Window operation! Moving all data to a single partition, this can cause serious performance degradation.\n",
      "22/07/03 10:21:03 WARN WindowExec: No Partition Defined for Window operation! Moving all data to a single partition, this can cause serious performance degradation.\n",
      "22/07/03 10:21:04 WARN WindowExec: No Partition Defined for Window operation! Moving all data to a single partition, this can cause serious performance degradation.\n",
      "22/07/03 10:21:04 WARN WindowExec: No Partition Defined for Window operation! Moving all data to a single partition, this can cause serious performance degradation.\n",
      "22/07/03 10:21:04 WARN WindowExec: No Partition Defined for Window operation! Moving all data to a single partition, this can cause serious performance degradation.\n",
      "22/07/03 10:21:04 WARN WindowExec: No Partition Defined for Window operation! Moving all data to a single partition, this can cause serious performance degradation.\n",
      "+------+------------------+\n",
      "|UserID|stddev(session_id)|\n",
      "+------+------------------+\n",
      "|    15|              null|\n",
      "|    20|              null|\n",
      "|    21|              null|\n",
      "|    25|0.7071067811865476|\n",
      "|    31|              null|\n",
      "|    32|              null|\n",
      "|    39|              null|\n",
      "|    48|              null|\n",
      "|    49|              null|\n",
      "|    75|              null|\n",
      "|    78|              null|\n",
      "|   109|2.7386127875258306|\n",
      "|   127|              null|\n",
      "|   133|              null|\n",
      "|   146| 96.27304918823336|\n",
      "|   147|              null|\n",
      "|   170|              null|\n",
      "|   175|0.7071067811865476|\n",
      "|   181|              null|\n",
      "|   190|1.2909944487358056|\n",
      "+------+------------------+\n",
      "only showing top 20 rows\n",
      "\n"
     ]
    }
   ],
   "source": [
    " df3 = df1.groupBy('UserID').agg({'session_id': 'stddev'}).show()"
   ]
  },
  {
   "cell_type": "markdown",
   "id": "73b85326",
   "metadata": {},
   "source": [
    "4. Find a mean and standard deviation of the tagging frequency for across users."
   ]
  },
  {
   "cell_type": "code",
   "execution_count": 42,
   "id": "c0faf261",
   "metadata": {},
   "outputs": [
    {
     "name": "stdout",
     "output_type": "stream",
     "text": [
      "22/07/03 10:21:29 WARN WindowExec: No Partition Defined for Window operation! Moving all data to a single partition, this can cause serious performance degradation.\n",
      "22/07/03 10:21:29 WARN WindowExec: No Partition Defined for Window operation! Moving all data to a single partition, this can cause serious performance degradation.\n",
      "22/07/03 10:21:29 WARN WindowExec: No Partition Defined for Window operation! Moving all data to a single partition, this can cause serious performance degradation.\n",
      "22/07/03 10:21:29 WARN WindowExec: No Partition Defined for Window operation! Moving all data to a single partition, this can cause serious performance degradation.\n",
      "22/07/03 10:21:30 WARN WindowExec: No Partition Defined for Window operation! Moving all data to a single partition, this can cause serious performance degradation.\n",
      "22/07/03 10:21:30 WARN WindowExec: No Partition Defined for Window operation! Moving all data to a single partition, this can cause serious performance degradation.\n",
      "The mean across all users =  7.300084014358817\n"
     ]
    }
   ],
   "source": [
    "mean = df1.agg({'count': 'mean'}).collect()\n",
    "print(\"The mean across all users = \",mean[0][0])"
   ]
  },
  {
   "cell_type": "code",
   "execution_count": 43,
   "id": "b39133bb",
   "metadata": {},
   "outputs": [
    {
     "name": "stdout",
     "output_type": "stream",
     "text": [
      "22/07/03 10:21:32 WARN WindowExec: No Partition Defined for Window operation! Moving all data to a single partition, this can cause serious performance degradation.\n",
      "22/07/03 10:21:32 WARN WindowExec: No Partition Defined for Window operation! Moving all data to a single partition, this can cause serious performance degradation.\n",
      "22/07/03 10:21:32 WARN WindowExec: No Partition Defined for Window operation! Moving all data to a single partition, this can cause serious performance degradation.\n",
      "22/07/03 10:21:32 WARN WindowExec: No Partition Defined for Window operation! Moving all data to a single partition, this can cause serious performance degradation.\n",
      "22/07/03 10:21:33 WARN WindowExec: No Partition Defined for Window operation! Moving all data to a single partition, this can cause serious performance degradation.\n",
      "22/07/03 10:21:33 WARN WindowExec: No Partition Defined for Window operation! Moving all data to a single partition, this can cause serious performance degradation.\n",
      "The standard deviation across all users =  22.264293050264985\n"
     ]
    }
   ],
   "source": [
    "stddev = df1.agg({'count': 'stddev'}).collect()\n",
    "print(\"The standard deviation across all users = \",stddev[0][0])"
   ]
  },
  {
   "cell_type": "markdown",
   "id": "c415fff9",
   "metadata": {},
   "source": [
    "5. Provide the list of users with a mean tagging frequency within the two standard deviation from the mean frequency of all users."
   ]
  },
  {
   "cell_type": "code",
   "execution_count": 45,
   "id": "2d926e36",
   "metadata": {},
   "outputs": [],
   "source": [
    "# Range of two standard deviation from mean frequency of all users\n",
    "std_1 = mean[0][0]+2*stddev[0][0]\n",
    "std_2 = mean[0][0]-2*stddev[0][0]"
   ]
  },
  {
   "cell_type": "markdown",
   "id": "d3b42a11",
   "metadata": {},
   "source": [
    "Here I check if the tagging frequency lies between the above range of values. If it does then I assign it as 1 or else I assign it as 0"
   ]
  },
  {
   "cell_type": "code",
   "execution_count": 46,
   "id": "64d8fb59",
   "metadata": {
    "scrolled": false
   },
   "outputs": [
    {
     "name": "stdout",
     "output_type": "stream",
     "text": [
      "22/07/03 10:26:01 WARN WindowExec: No Partition Defined for Window operation! Moving all data to a single partition, this can cause serious performance degradation.\n",
      "22/07/03 10:26:01 WARN WindowExec: No Partition Defined for Window operation! Moving all data to a single partition, this can cause serious performance degradation.\n",
      "22/07/03 10:26:01 WARN WindowExec: No Partition Defined for Window operation! Moving all data to a single partition, this can cause serious performance degradation.\n",
      "22/07/03 10:26:01 WARN WindowExec: No Partition Defined for Window operation! Moving all data to a single partition, this can cause serious performance degradation.\n",
      "22/07/03 10:26:02 WARN WindowExec: No Partition Defined for Window operation! Moving all data to a single partition, this can cause serious performance degradation.\n",
      "22/07/03 10:26:02 WARN WindowExec: No Partition Defined for Window operation! Moving all data to a single partition, this can cause serious performance degradation.\n",
      "+------+----------+---------+-----+\n",
      "|UserID|session_id|Frequency|count|\n",
      "+------+----------+---------+-----+\n",
      "|    15|         1|        1|    1|\n",
      "|    20|         2|       12|    1|\n",
      "|    21|         3|        2|    1|\n",
      "|    25|         4|        1|    1|\n",
      "|    25|         5|        1|    1|\n",
      "|    31|         6|        5|    1|\n",
      "|    32|         7|        1|    1|\n",
      "|    39|         8|        5|    1|\n",
      "|    48|         9|        2|    1|\n",
      "|    49|        10|       15|    1|\n",
      "|    75|        11|        1|    1|\n",
      "|    78|        12|        1|    1|\n",
      "|   109|        13|       11|    1|\n",
      "|   109|        14|        2|    1|\n",
      "|   109|        15|        3|    1|\n",
      "|   109|        16|        1|    1|\n",
      "|   109|        17|        1|    1|\n",
      "|   109|        18|        1|    1|\n",
      "|   109|        19|        4|    1|\n",
      "|   109|        20|        1|    1|\n",
      "|   109|        21|        1|    1|\n",
      "|   127|        22|       26|    1|\n",
      "|   133|        23|        5|    1|\n",
      "|   146|        24|        1|    1|\n",
      "|   146|        25|        1|    1|\n",
      "|   146|        26|        2|    1|\n",
      "|   146|        27|       12|    1|\n",
      "|   146|        28|        2|    1|\n",
      "|   146|        29|        4|    1|\n",
      "|   146|        30|       18|    1|\n",
      "|   146|        31|       53|    0|\n",
      "|   146|        32|        3|    1|\n",
      "|   146|        33|        3|    1|\n",
      "|   146|        34|        2|    1|\n",
      "|   146|        35|        2|    1|\n",
      "|   146|        36|        2|    1|\n",
      "|   146|        37|        1|    1|\n",
      "|   146|        38|        1|    1|\n",
      "|   146|        39|        1|    1|\n",
      "|   146|        40|        4|    1|\n",
      "|   146|        41|        1|    1|\n",
      "|   146|        42|        1|    1|\n",
      "|   146|        43|        2|    1|\n",
      "|   146|        44|        4|    1|\n",
      "|   146|        45|        2|    1|\n",
      "|   146|        46|        2|    1|\n",
      "|   146|        47|        2|    1|\n",
      "|   146|        48|        8|    1|\n",
      "|   146|        49|        4|    1|\n",
      "|   146|        50|        1|    1|\n",
      "|   146|        51|        1|    1|\n",
      "|   146|        52|        1|    1|\n",
      "|   146|        53|        1|    1|\n",
      "|   146|        54|       10|    1|\n",
      "|   146|        55|        1|    1|\n",
      "|   146|        56|        1|    1|\n",
      "|   146|        57|        4|    1|\n",
      "|   146|        58|        1|    1|\n",
      "|   146|        59|       18|    1|\n",
      "|   146|        60|        1|    1|\n",
      "|   146|        61|        6|    1|\n",
      "|   146|        62|        4|    1|\n",
      "|   146|        63|        1|    1|\n",
      "|   146|        64|        1|    1|\n",
      "|   146|        65|        3|    1|\n",
      "|   146|        66|       14|    1|\n",
      "|   146|        67|       69|    0|\n",
      "|   146|        68|        3|    1|\n",
      "|   146|        69|       39|    1|\n",
      "|   146|        70|       27|    1|\n",
      "|   146|        71|        7|    1|\n",
      "|   146|        72|        4|    1|\n",
      "|   146|        73|        2|    1|\n",
      "|   146|        74|        4|    1|\n",
      "|   146|        75|        8|    1|\n",
      "|   146|        76|        1|    1|\n",
      "|   146|        77|       40|    1|\n",
      "|   146|        78|        2|    1|\n",
      "|   146|        79|        3|    1|\n",
      "|   146|        80|        1|    1|\n",
      "|   146|        81|        3|    1|\n",
      "|   146|        82|        1|    1|\n",
      "|   146|        83|       63|    0|\n",
      "|   146|        84|       56|    0|\n",
      "|   146|        85|        5|    1|\n",
      "|   146|        86|        4|    1|\n",
      "|   146|        87|        2|    1|\n",
      "|   146|        88|        2|    1|\n",
      "|   146|        89|        1|    1|\n",
      "|   146|        90|        2|    1|\n",
      "|   146|        91|        2|    1|\n",
      "|   146|        92|        3|    1|\n",
      "|   146|        93|        1|    1|\n",
      "|   146|        94|        4|    1|\n",
      "|   146|        95|        2|    1|\n",
      "|   146|        96|        2|    1|\n",
      "|   146|        97|        1|    1|\n",
      "|   146|        98|        3|    1|\n",
      "|   146|        99|        6|    1|\n",
      "|   146|       100|       16|    1|\n",
      "+------+----------+---------+-----+\n",
      "only showing top 100 rows\n",
      "\n"
     ]
    }
   ],
   "source": [
    "df1 = df1.withColumnRenamed(\"count\",\"Frequency\")\n",
    "from pyspark.sql.functions import when\n",
    "df4 = df1.withColumn(\"count\", when(df1.Frequency<std_1, when(df1.Frequency>std_2,1).otherwise(0)).otherwise(0))\n",
    "df4.show(100)"
   ]
  },
  {
   "cell_type": "code",
   "execution_count": 47,
   "id": "bd6cb56b",
   "metadata": {},
   "outputs": [],
   "source": [
    "df4 = df4.withColumnRenamed(\"count\",\"Users_in_the_range\")\n",
    "df5 = df4.filter(df4.Users_in_the_range == 1)"
   ]
  },
  {
   "cell_type": "markdown",
   "id": "cc1d0e90",
   "metadata": {},
   "source": [
    "#### this dataframe df5 contains all the users whose mean frequency lies within 2 standard devaitions away from mean frequency of all users."
   ]
  },
  {
   "cell_type": "code",
   "execution_count": 48,
   "id": "7b42e754",
   "metadata": {
    "scrolled": false
   },
   "outputs": [
    {
     "name": "stdout",
     "output_type": "stream",
     "text": [
      "22/07/03 10:27:19 WARN WindowExec: No Partition Defined for Window operation! Moving all data to a single partition, this can cause serious performance degradation.\n",
      "22/07/03 10:27:19 WARN WindowExec: No Partition Defined for Window operation! Moving all data to a single partition, this can cause serious performance degradation.\n",
      "22/07/03 10:27:19 WARN WindowExec: No Partition Defined for Window operation! Moving all data to a single partition, this can cause serious performance degradation.\n",
      "22/07/03 10:27:19 WARN WindowExec: No Partition Defined for Window operation! Moving all data to a single partition, this can cause serious performance degradation.\n",
      "22/07/03 10:27:20 WARN WindowExec: No Partition Defined for Window operation! Moving all data to a single partition, this can cause serious performance degradation.\n",
      "22/07/03 10:27:20 WARN WindowExec: No Partition Defined for Window operation! Moving all data to a single partition, this can cause serious performance degradation.\n",
      "+------+----------+---------+------------------+\n",
      "|UserID|session_id|Frequency|Users_in_the_range|\n",
      "+------+----------+---------+------------------+\n",
      "|    15|         1|        1|                 1|\n",
      "|    20|         2|       12|                 1|\n",
      "|    21|         3|        2|                 1|\n",
      "|    25|         4|        1|                 1|\n",
      "|    25|         5|        1|                 1|\n",
      "|    31|         6|        5|                 1|\n",
      "|    32|         7|        1|                 1|\n",
      "|    39|         8|        5|                 1|\n",
      "|    48|         9|        2|                 1|\n",
      "|    49|        10|       15|                 1|\n",
      "+------+----------+---------+------------------+\n",
      "only showing top 10 rows\n",
      "\n"
     ]
    }
   ],
   "source": [
    "df5.show(10) "
   ]
  },
  {
   "cell_type": "code",
   "execution_count": null,
   "id": "9985c408",
   "metadata": {},
   "outputs": [],
   "source": []
  }
 ],
 "metadata": {
  "kernelspec": {
   "display_name": "Python 3 (ipykernel)",
   "language": "python",
   "name": "python3"
  },
  "language_info": {
   "codemirror_mode": {
    "name": "ipython",
    "version": 3
   },
   "file_extension": ".py",
   "mimetype": "text/x-python",
   "name": "python",
   "nbconvert_exporter": "python",
   "pygments_lexer": "ipython3",
   "version": "3.9.13"
  }
 },
 "nbformat": 4,
 "nbformat_minor": 5
}
